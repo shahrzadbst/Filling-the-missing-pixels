{
 "nbformat": 4,
 "nbformat_minor": 0,
 "metadata": {
  "colab": {
   "provenance": [],
   "authorship_tag": "ABX9TyOiYhwXozLHkJv6mUeNteWW"
  },
  "kernelspec": {
   "name": "python3",
   "display_name": "Python 3"
  },
  "language_info": {
   "name": "python"
  }
 },
 "cells": [
  {
   "cell_type": "code",
   "source": [
    "import numpy as np\n",
    "import torch\n",
    "import torch.nn as nn\n",
    "import matplotlib.pyplot as plt\n",
    "from keras.datasets import mnist\n",
    "from collections import namedtuple\n",
    "import networkx as nx\n",
    "import random\n",
    "import itertools\n",
    "\n",
    "T = 2000 # the size of training dataset\n",
    "(x_train, y_train), (x_test, y_test) = mnist.load_data()\n",
    "dataset=x_train[:T]\n",
    "# transfer the images into binary images(0 and 1)\n",
    "\n",
    "for i in range(T):\n",
    "  a = dataset[i]\n",
    "  a[a<=127] = 0\n",
    "  a[a>127] = 1\n",
    "  dataset[i] = a\n",
    "# plt.imshow(dataset[0], cmap=\"gray\") \n",
    "dataset.shape"
   ],
   "metadata": {
    "colab": {
     "base_uri": "https://localhost:8080/"
    },
    "id": "kP9_K7-maZNQ",
    "executionInfo": {
     "status": "ok",
     "timestamp": 1651782121315,
     "user_tz": 240,
     "elapsed": 441,
     "user": {
      "displayName": "Zhiyi Dong",
      "userId": "03369543648239299542"
     }
    },
    "outputId": "ab5added-76ad-406a-8055-ed9b563539c0",
    "pycharm": {
     "name": "#%%\n"
    }
   },
   "execution_count": null,
   "outputs": [
    {
     "output_type": "execute_result",
     "data": {
      "text/plain": [
       "(2000, 28, 28)"
      ]
     },
     "metadata": {},
     "execution_count": 6
    }
   ]
  },
  {
   "cell_type": "code",
   "execution_count": null,
   "metadata": {
    "id": "YUjJWspLqRfT",
    "pycharm": {
     "name": "#%%\n"
    }
   },
   "outputs": [],
   "source": [
    "class Node:\n",
    "  def __init__(self, id, value, is_factor, is_observed):\n",
    "    ''' create a node\n",
    "    Args:\n",
    "    id: the node id (e.g. x1)\n",
    "    is_factor: a boolean variable, true: is factor; false: is node\n",
    "    is_observed: a boolean variable, true: is observed; false: is unobserved\n",
    "    '''\n",
    "    self.id = id\n",
    "    self.value = value\n",
    "    self.is_factor_node = is_factor\n",
    "    self.is_observed = is_observed\n",
    "    self.outgoing_edges = []\n",
    "    self.incoming_edges = []\n",
    "\n",
    "  def __hash__(self):\n",
    "    return hash(self.id)\n",
    "\n",
    "  def __eq__(self, other):\n",
    "    return self.id == other.id\n",
    "\n",
    "  def __str__(self):\n",
    "    return self.id"
   ]
  },
  {
   "cell_type": "code",
   "source": [
    "class Edge:\n",
    "  def __init__(self, from_node, to_node):\n",
    "    '''\n",
    "    1. create a edge with direction(from_node -> to_node)\n",
    "    2. each directed edge corresponds to one message(each iteration), it means the message sent by the \n",
    "    edge origin node to the edge end node; they are stored in list messgaes[]\n",
    "    \n",
    "    :param from_node: the origin node of this edge\n",
    "    :param to_node: the end node of this edge  \n",
    "    '''\n",
    "    self.from_node = from_node\n",
    "    self.to_node = to_node\n",
    "    self.messages = []\n",
    "\n",
    "\n",
    "  def __hash__(self):\n",
    "    return hash(self.from_node + self.to_node)\n",
    "\n",
    "  def __eq__(self, other):\n",
    "    return (self.from_node, self.to_node) == (other.from_node, other.to_node)\n",
    "\n",
    "  def __str__(self):\n",
    "    return str(self.from_node) + \"-->\" + str(self.to_node)"
   ],
   "metadata": {
    "id": "sbfhs1jHdkiu",
    "pycharm": {
     "name": "#%%\n"
    }
   },
   "execution_count": null,
   "outputs": []
  },
  {
   "cell_type": "code",
   "source": [
    "class Graph:\n",
    "\n",
    "  def __init__(self, graph_map, value_map, hidden_list):\n",
    "    '''\n",
    "    create a graph according to the graph_map and observed_list\n",
    "    :param graph_map: the dictionary of graph\n",
    "    :param value_map: the dictionary of observed values\n",
    "    :param hidden_list: a list which contains all unobserved nodes\n",
    "    :return:\n",
    "    '''\n",
    "    nodes = []\n",
    "    self.graph_map = graph_map\n",
    "    self.value_map = value_map\n",
    "    self.hidden_list = hidden_list\n",
    "                            \n",
    "    # create the graph\n",
    "    self.nodes = {}\n",
    "    self.edges = {}\n",
    "    for node, _ in self.graph_map.items():\n",
    "      n = None\n",
    "      if node.startswith(\"x\"):\n",
    "        if node in hidden_list:\n",
    "          n = Node(node, None, False, False)\n",
    "        else:\n",
    "          n = Node(node, value_map[node], False, True)\n",
    "      elif node.startswith(\"f\"):\n",
    "        n = Node(node, None, True, None)\n",
    "      self.nodes[n.id] = n\n",
    "    for node, connections in self.graph_map.items():\n",
    "      n = self.nodes[node]\n",
    "      for connection in connections:\n",
    "        edge = None\n",
    "        if self.nodes.get(connection):\n",
    "          edge = Edge(n, self.nodes[connection])\n",
    "        n.outgoing_edges.append(edge)\n",
    "        self.nodes[connection].incoming_edges.append(edge)\n",
    "        self.edges[str(edge)] = edge\n",
    "\n",
    "  def __str__(self):\n",
    "    result = \"\"\n",
    "    for id, node in self.nodes.items():\n",
    "      result += str(node) + \" (\" + str(node.is_factor_node) + \") :\\n\"\n",
    "      for edge in node.outgoing_edges:\n",
    "        result += str(edge) + \"\\n\"\n",
    "      result += \"\\n\"\n",
    "    return result"
   ],
   "metadata": {
    "id": "N8reULtwdmgI",
    "pycharm": {
     "name": "#%%\n"
    }
   },
   "execution_count": null,
   "outputs": []
  },
  {
   "cell_type": "code",
   "source": [
    "def factor_function(x1, x2, x3, x4, a, b, c):\n",
    "  if (x1+x2+x3+x4)==4 or (x1+x2+x3+x4)==0:\n",
    "    return a\n",
    "  elif (x1+x2+x3+x4)==3 or (x1+x2+x3+x4)==1:\n",
    "    return b\n",
    "  elif (x1+x2+x3+x4)==2:\n",
    "    return c"
   ],
   "metadata": {
    "id": "BG5MD8z7Zd1j",
    "pycharm": {
     "name": "#%%\n"
    }
   },
   "execution_count": null,
   "outputs": []
  },
  {
   "cell_type": "code",
   "source": [
    "def can_calculate(from_node, to_node, i):\n",
    "  '''\n",
    "  check whether the message in such path can be calculated\n",
    "  '''\n",
    "  for edge in from_node.incoming_edges:\n",
    "    if edge.from_node.id != to_node.id and edge.messages[i] == None:\n",
    "      return False\n",
    "  return True\n",
    "\n",
    "def Message_f_to_x(incoming_messages, to_node_value, a, b, c):\n",
    "  '''\n",
    "  1. calculate the message from a factor to a x node\n",
    "  2. each factor connects 4 x nodes, three of them are summed\n",
    "  '''\n",
    "  sum = 0\n",
    "  \n",
    "  configs = list(itertools.product([0, 1], repeat= 3))\n",
    "  #configs=[(0, 0, 0), (0, 0, 1), (0, 1, 0), (0, 1, 1), (1, 0, 0), (1, 0, 1), (1, 1, 0), (1, 1, 1)]\n",
    "  for i in range(len(configs)):\n",
    "    xi = configs[i][0]\n",
    "    xj = configs[i][1]\n",
    "    xk = configs[i][2]\n",
    "    if incoming_messages[0][xi]!=None and incoming_messages[1][xj]!=None and incoming_messages[2][xk]!=None:\n",
    "      sum += factor_function(xi, xj, xk, to_node_value, a, b, c) * incoming_messages[0][xi] * incoming_messages[1][xj] * incoming_messages[2][xk]\n",
    "    # print(\"i=\",i,\"sum=\",sum)\n",
    "  return sum\n",
    "\n",
    "\n",
    "def Message_x_to_f(incoming_messages, to_node_value):\n",
    "  '''\n",
    "  calculate the message from a x node to a factor \n",
    "  :return: the product of all incoming messages\n",
    "  '''\n",
    "\n",
    "  prod = 1\n",
    "  for i in range(len(incoming_messages)):\n",
    "    prod *= incoming_messages[i][to_node_value]\n",
    "  return prod"
   ],
   "metadata": {
    "id": "UycHuWGBckPW",
    "pycharm": {
     "name": "#%%\n"
    }
   },
   "execution_count": null,
   "outputs": []
  },
  {
   "cell_type": "code",
   "source": [
    "def calculate_message(graph, from_node, to_node, i, a, b, c):\n",
    "  '''\n",
    "  1. calculate the message sent by from_node to to_node\n",
    "  2. if from_node is a node, calculate the product of all incoming messages except: to_node -> from_node\n",
    "  3. if from_node is a factor, calculate the sum of factor_i * all incoming messages except: to_node -> from_node\n",
    "  :param i: corresponds to the iteration, also the length of messages of each edge\n",
    "  :return: the new graph, its message of edge(from_node->to_node) is added a new one/ updated\n",
    "  '''\n",
    "\n",
    "  if can_calculate(from_node, to_node, i):\n",
    "    incoming_messages = []\n",
    "          \n",
    "    for edge in from_node.incoming_edges:\n",
    "      if edge.from_node.id != to_node.id: # all incoming edges except to_node -> from_node\n",
    "        incoming_messages.append(edge.messages[i]) # store the messages of these edges\n",
    "        \n",
    "    if from_node.is_factor_node: # if it's factor node\n",
    "      # calculate the message(from_node->to_node)\n",
    "      if to_node.is_observed:\n",
    "        message = [None, None]\n",
    "        message[to_node.value] = Message_f_to_x(incoming_messages, to_node.value, a, b, c)\n",
    "      else:\n",
    "        message = [Message_f_to_x(incoming_messages, 0, a, b, c), Message_f_to_x(incoming_messages, 1, a, b, c)]\n",
    "    else: # if it's variable node\n",
    "      if from_node.is_observed:\n",
    "        message = [None, None]\n",
    "        # print(incoming_messages, int(from_node.value.item()))\n",
    "        message[from_node.value] = Message_x_to_f(incoming_messages, from_node.value)\n",
    "      else:\n",
    "        # print(incoming_messages)\n",
    "        message = [Message_x_to_f(incoming_messages, 0), Message_x_to_f(incoming_messages, 1)]\n",
    "      # message = [Message_x_to_f(incoming_messages, 0), Message_x_to_f(incoming_messages, 1)]\n",
    "    # store this new message in the graph\n",
    "    edge_id = from_node.id + \"-->\" + to_node.id\n",
    "    graph.edges[edge_id].messages.append(message)\n",
    "  \n",
    "  else:\n",
    "    edge_id = from_node.id + \"-->\" + to_node.id\n",
    "    msg = graph.edges[edge_id].messages[i]\n",
    "    graph.edges[edge_id].messages.append(msg)\n",
    "  return graph"
   ],
   "metadata": {
    "id": "s5MJyLyxcHKX",
    "pycharm": {
     "name": "#%%\n"
    }
   },
   "execution_count": null,
   "outputs": []
  },
  {
   "cell_type": "code",
   "source": [
    "def calculate_belief(graph, hidden_nodes):\n",
    "  \"\"\"\n",
    "  1. calculate the belief for all unobserved nodes\n",
    "  2. then calculate which value (0 or 1) of x_i can make its belief to be maximum\n",
    "  3. then get a list of the values of all nodes in hidden_nodes[]\n",
    "  \"\"\"\n",
    "  results = []\n",
    "  for id, node in graph.nodes.items():\n",
    "    if id in hidden_nodes:\n",
    "      belief = [1, 1]\n",
    "      # belief.requires_grad = True \n",
    "      for edge in node.incoming_edges: # all incoming messages\n",
    "        factor = edge.from_node\n",
    "        print(factor.incoming_edges.from_node)\n",
    "        message = edge.messages[-1] # the latest message\n",
    "        # node = 0\n",
    "        belief[0] *= message[0]\n",
    "        # node = 1\n",
    "        belief[1] *= message[1]\n",
    "      \n",
    "      '''\n",
    "      if belief[0] > belief[1], then x_i should be 0,\n",
    "      vice versa\n",
    "      '''\n",
    "      # if belief[0] >= belief[1]:\n",
    "      #   results.append(0)\n",
    "      # else:\n",
    "      #   results.append(1)\n",
    "      '''\n",
    "      normalize the belief, and save the vector\n",
    "      '''\n",
    "  \n",
    "      if sum(belief)==0:\n",
    "        results.append([0.5, 0.5])\n",
    "      else:\n",
    "        results.append([belief[0]/sum(belief), belief[1]/sum(belief)])\n",
    "  return results"
   ],
   "metadata": {
    "id": "roizzirZrWMZ",
    "pycharm": {
     "name": "#%%\n"
    }
   },
   "execution_count": null,
   "outputs": []
  },
  {
   "cell_type": "code",
   "source": [
    "def passing(graph, square, a, b, c):\n",
    "  '''\n",
    "  belief propagation/passing messages:\n",
    "  1: iterate the messages passing for 20 times\n",
    "  2: for each iteration:\n",
    "    1) using function calculate_message:\n",
    "      calculate the message sent by each node/factor to its all neighbors\n",
    "      calculate the message sent by (x->f) first, then by (f->x)\n",
    "    2) using function calculate_belief: \n",
    "      in this new graph(each edge with a list of messages), calculate the beliefs,\n",
    "      and choose one sequence of the unobserved nodes that has max belief\n",
    "  '''\n",
    "  for i in range(ITERATION):\n",
    "    # get all nodes in the graph\n",
    "    for id, node in graph.nodes.items():\n",
    "      for edge in node.outgoing_edges:\n",
    "        graph = calculate_message(graph, node, edge.to_node, i, a, b, c)\n",
    "\n",
    "    vectors = calculate_belief(graph, square)\n",
    "    print(\"iter=\",i,\" the vectors is:\", vectors)\n",
    "  return vectors"
   ],
   "metadata": {
    "id": "Xwa5omdjv6ja",
    "pycharm": {
     "name": "#%%\n"
    }
   },
   "execution_count": null,
   "outputs": []
  },
  {
   "cell_type": "code",
   "source": [
    "def remove_square(x, y, len):\n",
    "  '''\n",
    "  define which nodes are hidden/removed, \n",
    "  :param x and y: the location of left-top corner of this square\n",
    "  :param len: the length of this square\n",
    "  :return: a list of removed nodes\n",
    "  '''\n",
    "  list = []\n",
    "  index = 0\n",
    "  for i in range(28):\n",
    "    for j in range(28):\n",
    "      index += 1\n",
    "      if x<=(i+1)<=(x+len-1) and y<=(j+1)<=(y+len-1):\n",
    "        list.append('x{}'.format(index))\n",
    "  return list\n",
    "print(\"for testing the functions:\")\n",
    "lis = remove_square(6,17,5)\n",
    "print(lis)"
   ],
   "metadata": {
    "colab": {
     "base_uri": "https://localhost:8080/"
    },
    "id": "Iu_6t4wqqyq8",
    "executionInfo": {
     "status": "ok",
     "timestamp": 1650936000109,
     "user_tz": 240,
     "elapsed": 178,
     "user": {
      "displayName": "Zhiyi Dong",
      "userId": "03369543648239299542"
     }
    },
    "outputId": "6c855149-b72a-4757-dc8c-c81d4af7c784",
    "pycharm": {
     "name": "#%%\n"
    }
   },
   "execution_count": null,
   "outputs": [
    {
     "output_type": "stream",
     "name": "stdout",
     "text": [
      "for testing the functions:\n",
      "['x157', 'x158', 'x159', 'x160', 'x161', 'x185', 'x186', 'x187', 'x188', 'x189', 'x213', 'x214', 'x215', 'x216', 'x217', 'x241', 'x242', 'x243', 'x244', 'x245', 'x269', 'x270', 'x271', 'x272', 'x273']\n"
     ]
    }
   ]
  },
  {
   "cell_type": "code",
   "source": [
    "def create_graphMap(graph_size=28):\n",
    "  '''\n",
    "  create a dictionary, the key is each node/factor, the values are its neighbers\n",
    "  :param graph_size: the length of the graph(MNIST: 28)\n",
    "  :return: the dictionary\n",
    "  '''\n",
    "  map = {}\n",
    "  index=0\n",
    "  for i in range(graph_size):\n",
    "    for j in range(graph_size):\n",
    "      index += 1\n",
    "      map['x{}'.format(index)] = []\n",
    "      if i>0:\n",
    "        if j>0:\n",
    "          map['x{}'.format(index)].append('f{}'.format((i-1)*(graph_size-1)+j))\n",
    "        if j<27:\n",
    "          map['x{}'.format(index)].append('f{}'.format((i-1)*(graph_size-1)+j+1))\n",
    "      if i<27:\n",
    "        if j>0:\n",
    "          map['x{}'.format(index)].append('f{}'.format(i*(graph_size-1)+j))\n",
    "        if j<27:\n",
    "          map['x{}'.format(index)].append('f{}'.format(i*(graph_size-1)+j+1))\n",
    "  # for item in map:\n",
    "  #   print(item,\":\",map[item])\n",
    "  index=0\n",
    "  for i in range(graph_size-1):\n",
    "    for j in range(graph_size-1):\n",
    "      index += 1\n",
    "      map['f{}'.format(index)] = []\n",
    "      map['f{}'.format(index)].append('x{}'.format(i*graph_size+j+1))\n",
    "      map['f{}'.format(index)].append('x{}'.format(i*graph_size+j+1+1))\n",
    "      map['f{}'.format(index)].append('x{}'.format((i+1)*graph_size+j+1))\n",
    "      map['f{}'.format(index)].append('x{}'.format((i+1)*graph_size+j+1+1))\n",
    "  # for item in map:\n",
    "  #   print(item,\":\",map[item])\n",
    "  return map\n",
    "\n",
    "def create_valueMap(image, re_list, image_size=28):\n",
    "  '''\n",
    "  create a dictionary:\n",
    "  the key is each observed node;\n",
    "  the value is the corresponding value in the training image\n",
    "  '''\n",
    "  index = 0\n",
    "  map = {}\n",
    "  for i in range(image_size):\n",
    "    for j in range(image_size):\n",
    "      index += 1\n",
    "      node = 'x{}'.format(index)\n",
    "      if node not in re_list:        \n",
    "        map[node]=image[i][j]\n",
    "  return map\n",
    "        \n",
    "print(\"for testing the functions:\")\n",
    "map1 = create_graphMap()        \n",
    "print(map1) \n",
    "map2 = create_valueMap(dataset[0],lis)   \n",
    "print(map2) \n"
   ],
   "metadata": {
    "colab": {
     "base_uri": "https://localhost:8080/"
    },
    "id": "P6ql0ukHmCLB",
    "executionInfo": {
     "status": "ok",
     "timestamp": 1650936012626,
     "user_tz": 240,
     "elapsed": 188,
     "user": {
      "displayName": "Zhiyi Dong",
      "userId": "03369543648239299542"
     }
    },
    "outputId": "c5557d3c-ba2c-4e8c-8022-0e793e7b3a7e",
    "pycharm": {
     "name": "#%%\n"
    }
   },
   "execution_count": null,
   "outputs": [
    {
     "output_type": "stream",
     "name": "stdout",
     "text": [
      "for testing the functions:\n",
      "{'x1': ['f1'], 'x2': ['f1', 'f2'], 'x3': ['f2', 'f3'], 'x4': ['f3', 'f4'], 'x5': ['f4', 'f5'], 'x6': ['f5', 'f6'], 'x7': ['f6', 'f7'], 'x8': ['f7', 'f8'], 'x9': ['f8', 'f9'], 'x10': ['f9', 'f10'], 'x11': ['f10', 'f11'], 'x12': ['f11', 'f12'], 'x13': ['f12', 'f13'], 'x14': ['f13', 'f14'], 'x15': ['f14', 'f15'], 'x16': ['f15', 'f16'], 'x17': ['f16', 'f17'], 'x18': ['f17', 'f18'], 'x19': ['f18', 'f19'], 'x20': ['f19', 'f20'], 'x21': ['f20', 'f21'], 'x22': ['f21', 'f22'], 'x23': ['f22', 'f23'], 'x24': ['f23', 'f24'], 'x25': ['f24', 'f25'], 'x26': ['f25', 'f26'], 'x27': ['f26', 'f27'], 'x28': ['f27'], 'x29': ['f1', 'f28'], 'x30': ['f1', 'f2', 'f28', 'f29'], 'x31': ['f2', 'f3', 'f29', 'f30'], 'x32': ['f3', 'f4', 'f30', 'f31'], 'x33': ['f4', 'f5', 'f31', 'f32'], 'x34': ['f5', 'f6', 'f32', 'f33'], 'x35': ['f6', 'f7', 'f33', 'f34'], 'x36': ['f7', 'f8', 'f34', 'f35'], 'x37': ['f8', 'f9', 'f35', 'f36'], 'x38': ['f9', 'f10', 'f36', 'f37'], 'x39': ['f10', 'f11', 'f37', 'f38'], 'x40': ['f11', 'f12', 'f38', 'f39'], 'x41': ['f12', 'f13', 'f39', 'f40'], 'x42': ['f13', 'f14', 'f40', 'f41'], 'x43': ['f14', 'f15', 'f41', 'f42'], 'x44': ['f15', 'f16', 'f42', 'f43'], 'x45': ['f16', 'f17', 'f43', 'f44'], 'x46': ['f17', 'f18', 'f44', 'f45'], 'x47': ['f18', 'f19', 'f45', 'f46'], 'x48': ['f19', 'f20', 'f46', 'f47'], 'x49': ['f20', 'f21', 'f47', 'f48'], 'x50': ['f21', 'f22', 'f48', 'f49'], 'x51': ['f22', 'f23', 'f49', 'f50'], 'x52': ['f23', 'f24', 'f50', 'f51'], 'x53': ['f24', 'f25', 'f51', 'f52'], 'x54': ['f25', 'f26', 'f52', 'f53'], 'x55': ['f26', 'f27', 'f53', 'f54'], 'x56': ['f27', 'f54'], 'x57': ['f28', 'f55'], 'x58': ['f28', 'f29', 'f55', 'f56'], 'x59': ['f29', 'f30', 'f56', 'f57'], 'x60': ['f30', 'f31', 'f57', 'f58'], 'x61': ['f31', 'f32', 'f58', 'f59'], 'x62': ['f32', 'f33', 'f59', 'f60'], 'x63': ['f33', 'f34', 'f60', 'f61'], 'x64': ['f34', 'f35', 'f61', 'f62'], 'x65': ['f35', 'f36', 'f62', 'f63'], 'x66': ['f36', 'f37', 'f63', 'f64'], 'x67': ['f37', 'f38', 'f64', 'f65'], 'x68': ['f38', 'f39', 'f65', 'f66'], 'x69': ['f39', 'f40', 'f66', 'f67'], 'x70': ['f40', 'f41', 'f67', 'f68'], 'x71': ['f41', 'f42', 'f68', 'f69'], 'x72': ['f42', 'f43', 'f69', 'f70'], 'x73': ['f43', 'f44', 'f70', 'f71'], 'x74': ['f44', 'f45', 'f71', 'f72'], 'x75': ['f45', 'f46', 'f72', 'f73'], 'x76': ['f46', 'f47', 'f73', 'f74'], 'x77': ['f47', 'f48', 'f74', 'f75'], 'x78': ['f48', 'f49', 'f75', 'f76'], 'x79': ['f49', 'f50', 'f76', 'f77'], 'x80': ['f50', 'f51', 'f77', 'f78'], 'x81': ['f51', 'f52', 'f78', 'f79'], 'x82': ['f52', 'f53', 'f79', 'f80'], 'x83': ['f53', 'f54', 'f80', 'f81'], 'x84': ['f54', 'f81'], 'x85': ['f55', 'f82'], 'x86': ['f55', 'f56', 'f82', 'f83'], 'x87': ['f56', 'f57', 'f83', 'f84'], 'x88': ['f57', 'f58', 'f84', 'f85'], 'x89': ['f58', 'f59', 'f85', 'f86'], 'x90': ['f59', 'f60', 'f86', 'f87'], 'x91': ['f60', 'f61', 'f87', 'f88'], 'x92': ['f61', 'f62', 'f88', 'f89'], 'x93': ['f62', 'f63', 'f89', 'f90'], 'x94': ['f63', 'f64', 'f90', 'f91'], 'x95': ['f64', 'f65', 'f91', 'f92'], 'x96': ['f65', 'f66', 'f92', 'f93'], 'x97': ['f66', 'f67', 'f93', 'f94'], 'x98': ['f67', 'f68', 'f94', 'f95'], 'x99': ['f68', 'f69', 'f95', 'f96'], 'x100': ['f69', 'f70', 'f96', 'f97'], 'x101': ['f70', 'f71', 'f97', 'f98'], 'x102': ['f71', 'f72', 'f98', 'f99'], 'x103': ['f72', 'f73', 'f99', 'f100'], 'x104': ['f73', 'f74', 'f100', 'f101'], 'x105': ['f74', 'f75', 'f101', 'f102'], 'x106': ['f75', 'f76', 'f102', 'f103'], 'x107': ['f76', 'f77', 'f103', 'f104'], 'x108': ['f77', 'f78', 'f104', 'f105'], 'x109': ['f78', 'f79', 'f105', 'f106'], 'x110': ['f79', 'f80', 'f106', 'f107'], 'x111': ['f80', 'f81', 'f107', 'f108'], 'x112': ['f81', 'f108'], 'x113': ['f82', 'f109'], 'x114': ['f82', 'f83', 'f109', 'f110'], 'x115': ['f83', 'f84', 'f110', 'f111'], 'x116': ['f84', 'f85', 'f111', 'f112'], 'x117': ['f85', 'f86', 'f112', 'f113'], 'x118': ['f86', 'f87', 'f113', 'f114'], 'x119': ['f87', 'f88', 'f114', 'f115'], 'x120': ['f88', 'f89', 'f115', 'f116'], 'x121': ['f89', 'f90', 'f116', 'f117'], 'x122': ['f90', 'f91', 'f117', 'f118'], 'x123': ['f91', 'f92', 'f118', 'f119'], 'x124': ['f92', 'f93', 'f119', 'f120'], 'x125': ['f93', 'f94', 'f120', 'f121'], 'x126': ['f94', 'f95', 'f121', 'f122'], 'x127': ['f95', 'f96', 'f122', 'f123'], 'x128': ['f96', 'f97', 'f123', 'f124'], 'x129': ['f97', 'f98', 'f124', 'f125'], 'x130': ['f98', 'f99', 'f125', 'f126'], 'x131': ['f99', 'f100', 'f126', 'f127'], 'x132': ['f100', 'f101', 'f127', 'f128'], 'x133': ['f101', 'f102', 'f128', 'f129'], 'x134': ['f102', 'f103', 'f129', 'f130'], 'x135': ['f103', 'f104', 'f130', 'f131'], 'x136': ['f104', 'f105', 'f131', 'f132'], 'x137': ['f105', 'f106', 'f132', 'f133'], 'x138': ['f106', 'f107', 'f133', 'f134'], 'x139': ['f107', 'f108', 'f134', 'f135'], 'x140': ['f108', 'f135'], 'x141': ['f109', 'f136'], 'x142': ['f109', 'f110', 'f136', 'f137'], 'x143': ['f110', 'f111', 'f137', 'f138'], 'x144': ['f111', 'f112', 'f138', 'f139'], 'x145': ['f112', 'f113', 'f139', 'f140'], 'x146': ['f113', 'f114', 'f140', 'f141'], 'x147': ['f114', 'f115', 'f141', 'f142'], 'x148': ['f115', 'f116', 'f142', 'f143'], 'x149': ['f116', 'f117', 'f143', 'f144'], 'x150': ['f117', 'f118', 'f144', 'f145'], 'x151': ['f118', 'f119', 'f145', 'f146'], 'x152': ['f119', 'f120', 'f146', 'f147'], 'x153': ['f120', 'f121', 'f147', 'f148'], 'x154': ['f121', 'f122', 'f148', 'f149'], 'x155': ['f122', 'f123', 'f149', 'f150'], 'x156': ['f123', 'f124', 'f150', 'f151'], 'x157': ['f124', 'f125', 'f151', 'f152'], 'x158': ['f125', 'f126', 'f152', 'f153'], 'x159': ['f126', 'f127', 'f153', 'f154'], 'x160': ['f127', 'f128', 'f154', 'f155'], 'x161': ['f128', 'f129', 'f155', 'f156'], 'x162': ['f129', 'f130', 'f156', 'f157'], 'x163': ['f130', 'f131', 'f157', 'f158'], 'x164': ['f131', 'f132', 'f158', 'f159'], 'x165': ['f132', 'f133', 'f159', 'f160'], 'x166': ['f133', 'f134', 'f160', 'f161'], 'x167': ['f134', 'f135', 'f161', 'f162'], 'x168': ['f135', 'f162'], 'x169': ['f136', 'f163'], 'x170': ['f136', 'f137', 'f163', 'f164'], 'x171': ['f137', 'f138', 'f164', 'f165'], 'x172': ['f138', 'f139', 'f165', 'f166'], 'x173': ['f139', 'f140', 'f166', 'f167'], 'x174': ['f140', 'f141', 'f167', 'f168'], 'x175': ['f141', 'f142', 'f168', 'f169'], 'x176': ['f142', 'f143', 'f169', 'f170'], 'x177': ['f143', 'f144', 'f170', 'f171'], 'x178': ['f144', 'f145', 'f171', 'f172'], 'x179': ['f145', 'f146', 'f172', 'f173'], 'x180': ['f146', 'f147', 'f173', 'f174'], 'x181': ['f147', 'f148', 'f174', 'f175'], 'x182': ['f148', 'f149', 'f175', 'f176'], 'x183': ['f149', 'f150', 'f176', 'f177'], 'x184': ['f150', 'f151', 'f177', 'f178'], 'x185': ['f151', 'f152', 'f178', 'f179'], 'x186': ['f152', 'f153', 'f179', 'f180'], 'x187': ['f153', 'f154', 'f180', 'f181'], 'x188': ['f154', 'f155', 'f181', 'f182'], 'x189': ['f155', 'f156', 'f182', 'f183'], 'x190': ['f156', 'f157', 'f183', 'f184'], 'x191': ['f157', 'f158', 'f184', 'f185'], 'x192': ['f158', 'f159', 'f185', 'f186'], 'x193': ['f159', 'f160', 'f186', 'f187'], 'x194': ['f160', 'f161', 'f187', 'f188'], 'x195': ['f161', 'f162', 'f188', 'f189'], 'x196': ['f162', 'f189'], 'x197': ['f163', 'f190'], 'x198': ['f163', 'f164', 'f190', 'f191'], 'x199': ['f164', 'f165', 'f191', 'f192'], 'x200': ['f165', 'f166', 'f192', 'f193'], 'x201': ['f166', 'f167', 'f193', 'f194'], 'x202': ['f167', 'f168', 'f194', 'f195'], 'x203': ['f168', 'f169', 'f195', 'f196'], 'x204': ['f169', 'f170', 'f196', 'f197'], 'x205': ['f170', 'f171', 'f197', 'f198'], 'x206': ['f171', 'f172', 'f198', 'f199'], 'x207': ['f172', 'f173', 'f199', 'f200'], 'x208': ['f173', 'f174', 'f200', 'f201'], 'x209': ['f174', 'f175', 'f201', 'f202'], 'x210': ['f175', 'f176', 'f202', 'f203'], 'x211': ['f176', 'f177', 'f203', 'f204'], 'x212': ['f177', 'f178', 'f204', 'f205'], 'x213': ['f178', 'f179', 'f205', 'f206'], 'x214': ['f179', 'f180', 'f206', 'f207'], 'x215': ['f180', 'f181', 'f207', 'f208'], 'x216': ['f181', 'f182', 'f208', 'f209'], 'x217': ['f182', 'f183', 'f209', 'f210'], 'x218': ['f183', 'f184', 'f210', 'f211'], 'x219': ['f184', 'f185', 'f211', 'f212'], 'x220': ['f185', 'f186', 'f212', 'f213'], 'x221': ['f186', 'f187', 'f213', 'f214'], 'x222': ['f187', 'f188', 'f214', 'f215'], 'x223': ['f188', 'f189', 'f215', 'f216'], 'x224': ['f189', 'f216'], 'x225': ['f190', 'f217'], 'x226': ['f190', 'f191', 'f217', 'f218'], 'x227': ['f191', 'f192', 'f218', 'f219'], 'x228': ['f192', 'f193', 'f219', 'f220'], 'x229': ['f193', 'f194', 'f220', 'f221'], 'x230': ['f194', 'f195', 'f221', 'f222'], 'x231': ['f195', 'f196', 'f222', 'f223'], 'x232': ['f196', 'f197', 'f223', 'f224'], 'x233': ['f197', 'f198', 'f224', 'f225'], 'x234': ['f198', 'f199', 'f225', 'f226'], 'x235': ['f199', 'f200', 'f226', 'f227'], 'x236': ['f200', 'f201', 'f227', 'f228'], 'x237': ['f201', 'f202', 'f228', 'f229'], 'x238': ['f202', 'f203', 'f229', 'f230'], 'x239': ['f203', 'f204', 'f230', 'f231'], 'x240': ['f204', 'f205', 'f231', 'f232'], 'x241': ['f205', 'f206', 'f232', 'f233'], 'x242': ['f206', 'f207', 'f233', 'f234'], 'x243': ['f207', 'f208', 'f234', 'f235'], 'x244': ['f208', 'f209', 'f235', 'f236'], 'x245': ['f209', 'f210', 'f236', 'f237'], 'x246': ['f210', 'f211', 'f237', 'f238'], 'x247': ['f211', 'f212', 'f238', 'f239'], 'x248': ['f212', 'f213', 'f239', 'f240'], 'x249': ['f213', 'f214', 'f240', 'f241'], 'x250': ['f214', 'f215', 'f241', 'f242'], 'x251': ['f215', 'f216', 'f242', 'f243'], 'x252': ['f216', 'f243'], 'x253': ['f217', 'f244'], 'x254': ['f217', 'f218', 'f244', 'f245'], 'x255': ['f218', 'f219', 'f245', 'f246'], 'x256': ['f219', 'f220', 'f246', 'f247'], 'x257': ['f220', 'f221', 'f247', 'f248'], 'x258': ['f221', 'f222', 'f248', 'f249'], 'x259': ['f222', 'f223', 'f249', 'f250'], 'x260': ['f223', 'f224', 'f250', 'f251'], 'x261': ['f224', 'f225', 'f251', 'f252'], 'x262': ['f225', 'f226', 'f252', 'f253'], 'x263': ['f226', 'f227', 'f253', 'f254'], 'x264': ['f227', 'f228', 'f254', 'f255'], 'x265': ['f228', 'f229', 'f255', 'f256'], 'x266': ['f229', 'f230', 'f256', 'f257'], 'x267': ['f230', 'f231', 'f257', 'f258'], 'x268': ['f231', 'f232', 'f258', 'f259'], 'x269': ['f232', 'f233', 'f259', 'f260'], 'x270': ['f233', 'f234', 'f260', 'f261'], 'x271': ['f234', 'f235', 'f261', 'f262'], 'x272': ['f235', 'f236', 'f262', 'f263'], 'x273': ['f236', 'f237', 'f263', 'f264'], 'x274': ['f237', 'f238', 'f264', 'f265'], 'x275': ['f238', 'f239', 'f265', 'f266'], 'x276': ['f239', 'f240', 'f266', 'f267'], 'x277': ['f240', 'f241', 'f267', 'f268'], 'x278': ['f241', 'f242', 'f268', 'f269'], 'x279': ['f242', 'f243', 'f269', 'f270'], 'x280': ['f243', 'f270'], 'x281': ['f244', 'f271'], 'x282': ['f244', 'f245', 'f271', 'f272'], 'x283': ['f245', 'f246', 'f272', 'f273'], 'x284': ['f246', 'f247', 'f273', 'f274'], 'x285': ['f247', 'f248', 'f274', 'f275'], 'x286': ['f248', 'f249', 'f275', 'f276'], 'x287': ['f249', 'f250', 'f276', 'f277'], 'x288': ['f250', 'f251', 'f277', 'f278'], 'x289': ['f251', 'f252', 'f278', 'f279'], 'x290': ['f252', 'f253', 'f279', 'f280'], 'x291': ['f253', 'f254', 'f280', 'f281'], 'x292': ['f254', 'f255', 'f281', 'f282'], 'x293': ['f255', 'f256', 'f282', 'f283'], 'x294': ['f256', 'f257', 'f283', 'f284'], 'x295': ['f257', 'f258', 'f284', 'f285'], 'x296': ['f258', 'f259', 'f285', 'f286'], 'x297': ['f259', 'f260', 'f286', 'f287'], 'x298': ['f260', 'f261', 'f287', 'f288'], 'x299': ['f261', 'f262', 'f288', 'f289'], 'x300': ['f262', 'f263', 'f289', 'f290'], 'x301': ['f263', 'f264', 'f290', 'f291'], 'x302': ['f264', 'f265', 'f291', 'f292'], 'x303': ['f265', 'f266', 'f292', 'f293'], 'x304': ['f266', 'f267', 'f293', 'f294'], 'x305': ['f267', 'f268', 'f294', 'f295'], 'x306': ['f268', 'f269', 'f295', 'f296'], 'x307': ['f269', 'f270', 'f296', 'f297'], 'x308': ['f270', 'f297'], 'x309': ['f271', 'f298'], 'x310': ['f271', 'f272', 'f298', 'f299'], 'x311': ['f272', 'f273', 'f299', 'f300'], 'x312': ['f273', 'f274', 'f300', 'f301'], 'x313': ['f274', 'f275', 'f301', 'f302'], 'x314': ['f275', 'f276', 'f302', 'f303'], 'x315': ['f276', 'f277', 'f303', 'f304'], 'x316': ['f277', 'f278', 'f304', 'f305'], 'x317': ['f278', 'f279', 'f305', 'f306'], 'x318': ['f279', 'f280', 'f306', 'f307'], 'x319': ['f280', 'f281', 'f307', 'f308'], 'x320': ['f281', 'f282', 'f308', 'f309'], 'x321': ['f282', 'f283', 'f309', 'f310'], 'x322': ['f283', 'f284', 'f310', 'f311'], 'x323': ['f284', 'f285', 'f311', 'f312'], 'x324': ['f285', 'f286', 'f312', 'f313'], 'x325': ['f286', 'f287', 'f313', 'f314'], 'x326': ['f287', 'f288', 'f314', 'f315'], 'x327': ['f288', 'f289', 'f315', 'f316'], 'x328': ['f289', 'f290', 'f316', 'f317'], 'x329': ['f290', 'f291', 'f317', 'f318'], 'x330': ['f291', 'f292', 'f318', 'f319'], 'x331': ['f292', 'f293', 'f319', 'f320'], 'x332': ['f293', 'f294', 'f320', 'f321'], 'x333': ['f294', 'f295', 'f321', 'f322'], 'x334': ['f295', 'f296', 'f322', 'f323'], 'x335': ['f296', 'f297', 'f323', 'f324'], 'x336': ['f297', 'f324'], 'x337': ['f298', 'f325'], 'x338': ['f298', 'f299', 'f325', 'f326'], 'x339': ['f299', 'f300', 'f326', 'f327'], 'x340': ['f300', 'f301', 'f327', 'f328'], 'x341': ['f301', 'f302', 'f328', 'f329'], 'x342': ['f302', 'f303', 'f329', 'f330'], 'x343': ['f303', 'f304', 'f330', 'f331'], 'x344': ['f304', 'f305', 'f331', 'f332'], 'x345': ['f305', 'f306', 'f332', 'f333'], 'x346': ['f306', 'f307', 'f333', 'f334'], 'x347': ['f307', 'f308', 'f334', 'f335'], 'x348': ['f308', 'f309', 'f335', 'f336'], 'x349': ['f309', 'f310', 'f336', 'f337'], 'x350': ['f310', 'f311', 'f337', 'f338'], 'x351': ['f311', 'f312', 'f338', 'f339'], 'x352': ['f312', 'f313', 'f339', 'f340'], 'x353': ['f313', 'f314', 'f340', 'f341'], 'x354': ['f314', 'f315', 'f341', 'f342'], 'x355': ['f315', 'f316', 'f342', 'f343'], 'x356': ['f316', 'f317', 'f343', 'f344'], 'x357': ['f317', 'f318', 'f344', 'f345'], 'x358': ['f318', 'f319', 'f345', 'f346'], 'x359': ['f319', 'f320', 'f346', 'f347'], 'x360': ['f320', 'f321', 'f347', 'f348'], 'x361': ['f321', 'f322', 'f348', 'f349'], 'x362': ['f322', 'f323', 'f349', 'f350'], 'x363': ['f323', 'f324', 'f350', 'f351'], 'x364': ['f324', 'f351'], 'x365': ['f325', 'f352'], 'x366': ['f325', 'f326', 'f352', 'f353'], 'x367': ['f326', 'f327', 'f353', 'f354'], 'x368': ['f327', 'f328', 'f354', 'f355'], 'x369': ['f328', 'f329', 'f355', 'f356'], 'x370': ['f329', 'f330', 'f356', 'f357'], 'x371': ['f330', 'f331', 'f357', 'f358'], 'x372': ['f331', 'f332', 'f358', 'f359'], 'x373': ['f332', 'f333', 'f359', 'f360'], 'x374': ['f333', 'f334', 'f360', 'f361'], 'x375': ['f334', 'f335', 'f361', 'f362'], 'x376': ['f335', 'f336', 'f362', 'f363'], 'x377': ['f336', 'f337', 'f363', 'f364'], 'x378': ['f337', 'f338', 'f364', 'f365'], 'x379': ['f338', 'f339', 'f365', 'f366'], 'x380': ['f339', 'f340', 'f366', 'f367'], 'x381': ['f340', 'f341', 'f367', 'f368'], 'x382': ['f341', 'f342', 'f368', 'f369'], 'x383': ['f342', 'f343', 'f369', 'f370'], 'x384': ['f343', 'f344', 'f370', 'f371'], 'x385': ['f344', 'f345', 'f371', 'f372'], 'x386': ['f345', 'f346', 'f372', 'f373'], 'x387': ['f346', 'f347', 'f373', 'f374'], 'x388': ['f347', 'f348', 'f374', 'f375'], 'x389': ['f348', 'f349', 'f375', 'f376'], 'x390': ['f349', 'f350', 'f376', 'f377'], 'x391': ['f350', 'f351', 'f377', 'f378'], 'x392': ['f351', 'f378'], 'x393': ['f352', 'f379'], 'x394': ['f352', 'f353', 'f379', 'f380'], 'x395': ['f353', 'f354', 'f380', 'f381'], 'x396': ['f354', 'f355', 'f381', 'f382'], 'x397': ['f355', 'f356', 'f382', 'f383'], 'x398': ['f356', 'f357', 'f383', 'f384'], 'x399': ['f357', 'f358', 'f384', 'f385'], 'x400': ['f358', 'f359', 'f385', 'f386'], 'x401': ['f359', 'f360', 'f386', 'f387'], 'x402': ['f360', 'f361', 'f387', 'f388'], 'x403': ['f361', 'f362', 'f388', 'f389'], 'x404': ['f362', 'f363', 'f389', 'f390'], 'x405': ['f363', 'f364', 'f390', 'f391'], 'x406': ['f364', 'f365', 'f391', 'f392'], 'x407': ['f365', 'f366', 'f392', 'f393'], 'x408': ['f366', 'f367', 'f393', 'f394'], 'x409': ['f367', 'f368', 'f394', 'f395'], 'x410': ['f368', 'f369', 'f395', 'f396'], 'x411': ['f369', 'f370', 'f396', 'f397'], 'x412': ['f370', 'f371', 'f397', 'f398'], 'x413': ['f371', 'f372', 'f398', 'f399'], 'x414': ['f372', 'f373', 'f399', 'f400'], 'x415': ['f373', 'f374', 'f400', 'f401'], 'x416': ['f374', 'f375', 'f401', 'f402'], 'x417': ['f375', 'f376', 'f402', 'f403'], 'x418': ['f376', 'f377', 'f403', 'f404'], 'x419': ['f377', 'f378', 'f404', 'f405'], 'x420': ['f378', 'f405'], 'x421': ['f379', 'f406'], 'x422': ['f379', 'f380', 'f406', 'f407'], 'x423': ['f380', 'f381', 'f407', 'f408'], 'x424': ['f381', 'f382', 'f408', 'f409'], 'x425': ['f382', 'f383', 'f409', 'f410'], 'x426': ['f383', 'f384', 'f410', 'f411'], 'x427': ['f384', 'f385', 'f411', 'f412'], 'x428': ['f385', 'f386', 'f412', 'f413'], 'x429': ['f386', 'f387', 'f413', 'f414'], 'x430': ['f387', 'f388', 'f414', 'f415'], 'x431': ['f388', 'f389', 'f415', 'f416'], 'x432': ['f389', 'f390', 'f416', 'f417'], 'x433': ['f390', 'f391', 'f417', 'f418'], 'x434': ['f391', 'f392', 'f418', 'f419'], 'x435': ['f392', 'f393', 'f419', 'f420'], 'x436': ['f393', 'f394', 'f420', 'f421'], 'x437': ['f394', 'f395', 'f421', 'f422'], 'x438': ['f395', 'f396', 'f422', 'f423'], 'x439': ['f396', 'f397', 'f423', 'f424'], 'x440': ['f397', 'f398', 'f424', 'f425'], 'x441': ['f398', 'f399', 'f425', 'f426'], 'x442': ['f399', 'f400', 'f426', 'f427'], 'x443': ['f400', 'f401', 'f427', 'f428'], 'x444': ['f401', 'f402', 'f428', 'f429'], 'x445': ['f402', 'f403', 'f429', 'f430'], 'x446': ['f403', 'f404', 'f430', 'f431'], 'x447': ['f404', 'f405', 'f431', 'f432'], 'x448': ['f405', 'f432'], 'x449': ['f406', 'f433'], 'x450': ['f406', 'f407', 'f433', 'f434'], 'x451': ['f407', 'f408', 'f434', 'f435'], 'x452': ['f408', 'f409', 'f435', 'f436'], 'x453': ['f409', 'f410', 'f436', 'f437'], 'x454': ['f410', 'f411', 'f437', 'f438'], 'x455': ['f411', 'f412', 'f438', 'f439'], 'x456': ['f412', 'f413', 'f439', 'f440'], 'x457': ['f413', 'f414', 'f440', 'f441'], 'x458': ['f414', 'f415', 'f441', 'f442'], 'x459': ['f415', 'f416', 'f442', 'f443'], 'x460': ['f416', 'f417', 'f443', 'f444'], 'x461': ['f417', 'f418', 'f444', 'f445'], 'x462': ['f418', 'f419', 'f445', 'f446'], 'x463': ['f419', 'f420', 'f446', 'f447'], 'x464': ['f420', 'f421', 'f447', 'f448'], 'x465': ['f421', 'f422', 'f448', 'f449'], 'x466': ['f422', 'f423', 'f449', 'f450'], 'x467': ['f423', 'f424', 'f450', 'f451'], 'x468': ['f424', 'f425', 'f451', 'f452'], 'x469': ['f425', 'f426', 'f452', 'f453'], 'x470': ['f426', 'f427', 'f453', 'f454'], 'x471': ['f427', 'f428', 'f454', 'f455'], 'x472': ['f428', 'f429', 'f455', 'f456'], 'x473': ['f429', 'f430', 'f456', 'f457'], 'x474': ['f430', 'f431', 'f457', 'f458'], 'x475': ['f431', 'f432', 'f458', 'f459'], 'x476': ['f432', 'f459'], 'x477': ['f433', 'f460'], 'x478': ['f433', 'f434', 'f460', 'f461'], 'x479': ['f434', 'f435', 'f461', 'f462'], 'x480': ['f435', 'f436', 'f462', 'f463'], 'x481': ['f436', 'f437', 'f463', 'f464'], 'x482': ['f437', 'f438', 'f464', 'f465'], 'x483': ['f438', 'f439', 'f465', 'f466'], 'x484': ['f439', 'f440', 'f466', 'f467'], 'x485': ['f440', 'f441', 'f467', 'f468'], 'x486': ['f441', 'f442', 'f468', 'f469'], 'x487': ['f442', 'f443', 'f469', 'f470'], 'x488': ['f443', 'f444', 'f470', 'f471'], 'x489': ['f444', 'f445', 'f471', 'f472'], 'x490': ['f445', 'f446', 'f472', 'f473'], 'x491': ['f446', 'f447', 'f473', 'f474'], 'x492': ['f447', 'f448', 'f474', 'f475'], 'x493': ['f448', 'f449', 'f475', 'f476'], 'x494': ['f449', 'f450', 'f476', 'f477'], 'x495': ['f450', 'f451', 'f477', 'f478'], 'x496': ['f451', 'f452', 'f478', 'f479'], 'x497': ['f452', 'f453', 'f479', 'f480'], 'x498': ['f453', 'f454', 'f480', 'f481'], 'x499': ['f454', 'f455', 'f481', 'f482'], 'x500': ['f455', 'f456', 'f482', 'f483'], 'x501': ['f456', 'f457', 'f483', 'f484'], 'x502': ['f457', 'f458', 'f484', 'f485'], 'x503': ['f458', 'f459', 'f485', 'f486'], 'x504': ['f459', 'f486'], 'x505': ['f460', 'f487'], 'x506': ['f460', 'f461', 'f487', 'f488'], 'x507': ['f461', 'f462', 'f488', 'f489'], 'x508': ['f462', 'f463', 'f489', 'f490'], 'x509': ['f463', 'f464', 'f490', 'f491'], 'x510': ['f464', 'f465', 'f491', 'f492'], 'x511': ['f465', 'f466', 'f492', 'f493'], 'x512': ['f466', 'f467', 'f493', 'f494'], 'x513': ['f467', 'f468', 'f494', 'f495'], 'x514': ['f468', 'f469', 'f495', 'f496'], 'x515': ['f469', 'f470', 'f496', 'f497'], 'x516': ['f470', 'f471', 'f497', 'f498'], 'x517': ['f471', 'f472', 'f498', 'f499'], 'x518': ['f472', 'f473', 'f499', 'f500'], 'x519': ['f473', 'f474', 'f500', 'f501'], 'x520': ['f474', 'f475', 'f501', 'f502'], 'x521': ['f475', 'f476', 'f502', 'f503'], 'x522': ['f476', 'f477', 'f503', 'f504'], 'x523': ['f477', 'f478', 'f504', 'f505'], 'x524': ['f478', 'f479', 'f505', 'f506'], 'x525': ['f479', 'f480', 'f506', 'f507'], 'x526': ['f480', 'f481', 'f507', 'f508'], 'x527': ['f481', 'f482', 'f508', 'f509'], 'x528': ['f482', 'f483', 'f509', 'f510'], 'x529': ['f483', 'f484', 'f510', 'f511'], 'x530': ['f484', 'f485', 'f511', 'f512'], 'x531': ['f485', 'f486', 'f512', 'f513'], 'x532': ['f486', 'f513'], 'x533': ['f487', 'f514'], 'x534': ['f487', 'f488', 'f514', 'f515'], 'x535': ['f488', 'f489', 'f515', 'f516'], 'x536': ['f489', 'f490', 'f516', 'f517'], 'x537': ['f490', 'f491', 'f517', 'f518'], 'x538': ['f491', 'f492', 'f518', 'f519'], 'x539': ['f492', 'f493', 'f519', 'f520'], 'x540': ['f493', 'f494', 'f520', 'f521'], 'x541': ['f494', 'f495', 'f521', 'f522'], 'x542': ['f495', 'f496', 'f522', 'f523'], 'x543': ['f496', 'f497', 'f523', 'f524'], 'x544': ['f497', 'f498', 'f524', 'f525'], 'x545': ['f498', 'f499', 'f525', 'f526'], 'x546': ['f499', 'f500', 'f526', 'f527'], 'x547': ['f500', 'f501', 'f527', 'f528'], 'x548': ['f501', 'f502', 'f528', 'f529'], 'x549': ['f502', 'f503', 'f529', 'f530'], 'x550': ['f503', 'f504', 'f530', 'f531'], 'x551': ['f504', 'f505', 'f531', 'f532'], 'x552': ['f505', 'f506', 'f532', 'f533'], 'x553': ['f506', 'f507', 'f533', 'f534'], 'x554': ['f507', 'f508', 'f534', 'f535'], 'x555': ['f508', 'f509', 'f535', 'f536'], 'x556': ['f509', 'f510', 'f536', 'f537'], 'x557': ['f510', 'f511', 'f537', 'f538'], 'x558': ['f511', 'f512', 'f538', 'f539'], 'x559': ['f512', 'f513', 'f539', 'f540'], 'x560': ['f513', 'f540'], 'x561': ['f514', 'f541'], 'x562': ['f514', 'f515', 'f541', 'f542'], 'x563': ['f515', 'f516', 'f542', 'f543'], 'x564': ['f516', 'f517', 'f543', 'f544'], 'x565': ['f517', 'f518', 'f544', 'f545'], 'x566': ['f518', 'f519', 'f545', 'f546'], 'x567': ['f519', 'f520', 'f546', 'f547'], 'x568': ['f520', 'f521', 'f547', 'f548'], 'x569': ['f521', 'f522', 'f548', 'f549'], 'x570': ['f522', 'f523', 'f549', 'f550'], 'x571': ['f523', 'f524', 'f550', 'f551'], 'x572': ['f524', 'f525', 'f551', 'f552'], 'x573': ['f525', 'f526', 'f552', 'f553'], 'x574': ['f526', 'f527', 'f553', 'f554'], 'x575': ['f527', 'f528', 'f554', 'f555'], 'x576': ['f528', 'f529', 'f555', 'f556'], 'x577': ['f529', 'f530', 'f556', 'f557'], 'x578': ['f530', 'f531', 'f557', 'f558'], 'x579': ['f531', 'f532', 'f558', 'f559'], 'x580': ['f532', 'f533', 'f559', 'f560'], 'x581': ['f533', 'f534', 'f560', 'f561'], 'x582': ['f534', 'f535', 'f561', 'f562'], 'x583': ['f535', 'f536', 'f562', 'f563'], 'x584': ['f536', 'f537', 'f563', 'f564'], 'x585': ['f537', 'f538', 'f564', 'f565'], 'x586': ['f538', 'f539', 'f565', 'f566'], 'x587': ['f539', 'f540', 'f566', 'f567'], 'x588': ['f540', 'f567'], 'x589': ['f541', 'f568'], 'x590': ['f541', 'f542', 'f568', 'f569'], 'x591': ['f542', 'f543', 'f569', 'f570'], 'x592': ['f543', 'f544', 'f570', 'f571'], 'x593': ['f544', 'f545', 'f571', 'f572'], 'x594': ['f545', 'f546', 'f572', 'f573'], 'x595': ['f546', 'f547', 'f573', 'f574'], 'x596': ['f547', 'f548', 'f574', 'f575'], 'x597': ['f548', 'f549', 'f575', 'f576'], 'x598': ['f549', 'f550', 'f576', 'f577'], 'x599': ['f550', 'f551', 'f577', 'f578'], 'x600': ['f551', 'f552', 'f578', 'f579'], 'x601': ['f552', 'f553', 'f579', 'f580'], 'x602': ['f553', 'f554', 'f580', 'f581'], 'x603': ['f554', 'f555', 'f581', 'f582'], 'x604': ['f555', 'f556', 'f582', 'f583'], 'x605': ['f556', 'f557', 'f583', 'f584'], 'x606': ['f557', 'f558', 'f584', 'f585'], 'x607': ['f558', 'f559', 'f585', 'f586'], 'x608': ['f559', 'f560', 'f586', 'f587'], 'x609': ['f560', 'f561', 'f587', 'f588'], 'x610': ['f561', 'f562', 'f588', 'f589'], 'x611': ['f562', 'f563', 'f589', 'f590'], 'x612': ['f563', 'f564', 'f590', 'f591'], 'x613': ['f564', 'f565', 'f591', 'f592'], 'x614': ['f565', 'f566', 'f592', 'f593'], 'x615': ['f566', 'f567', 'f593', 'f594'], 'x616': ['f567', 'f594'], 'x617': ['f568', 'f595'], 'x618': ['f568', 'f569', 'f595', 'f596'], 'x619': ['f569', 'f570', 'f596', 'f597'], 'x620': ['f570', 'f571', 'f597', 'f598'], 'x621': ['f571', 'f572', 'f598', 'f599'], 'x622': ['f572', 'f573', 'f599', 'f600'], 'x623': ['f573', 'f574', 'f600', 'f601'], 'x624': ['f574', 'f575', 'f601', 'f602'], 'x625': ['f575', 'f576', 'f602', 'f603'], 'x626': ['f576', 'f577', 'f603', 'f604'], 'x627': ['f577', 'f578', 'f604', 'f605'], 'x628': ['f578', 'f579', 'f605', 'f606'], 'x629': ['f579', 'f580', 'f606', 'f607'], 'x630': ['f580', 'f581', 'f607', 'f608'], 'x631': ['f581', 'f582', 'f608', 'f609'], 'x632': ['f582', 'f583', 'f609', 'f610'], 'x633': ['f583', 'f584', 'f610', 'f611'], 'x634': ['f584', 'f585', 'f611', 'f612'], 'x635': ['f585', 'f586', 'f612', 'f613'], 'x636': ['f586', 'f587', 'f613', 'f614'], 'x637': ['f587', 'f588', 'f614', 'f615'], 'x638': ['f588', 'f589', 'f615', 'f616'], 'x639': ['f589', 'f590', 'f616', 'f617'], 'x640': ['f590', 'f591', 'f617', 'f618'], 'x641': ['f591', 'f592', 'f618', 'f619'], 'x642': ['f592', 'f593', 'f619', 'f620'], 'x643': ['f593', 'f594', 'f620', 'f621'], 'x644': ['f594', 'f621'], 'x645': ['f595', 'f622'], 'x646': ['f595', 'f596', 'f622', 'f623'], 'x647': ['f596', 'f597', 'f623', 'f624'], 'x648': ['f597', 'f598', 'f624', 'f625'], 'x649': ['f598', 'f599', 'f625', 'f626'], 'x650': ['f599', 'f600', 'f626', 'f627'], 'x651': ['f600', 'f601', 'f627', 'f628'], 'x652': ['f601', 'f602', 'f628', 'f629'], 'x653': ['f602', 'f603', 'f629', 'f630'], 'x654': ['f603', 'f604', 'f630', 'f631'], 'x655': ['f604', 'f605', 'f631', 'f632'], 'x656': ['f605', 'f606', 'f632', 'f633'], 'x657': ['f606', 'f607', 'f633', 'f634'], 'x658': ['f607', 'f608', 'f634', 'f635'], 'x659': ['f608', 'f609', 'f635', 'f636'], 'x660': ['f609', 'f610', 'f636', 'f637'], 'x661': ['f610', 'f611', 'f637', 'f638'], 'x662': ['f611', 'f612', 'f638', 'f639'], 'x663': ['f612', 'f613', 'f639', 'f640'], 'x664': ['f613', 'f614', 'f640', 'f641'], 'x665': ['f614', 'f615', 'f641', 'f642'], 'x666': ['f615', 'f616', 'f642', 'f643'], 'x667': ['f616', 'f617', 'f643', 'f644'], 'x668': ['f617', 'f618', 'f644', 'f645'], 'x669': ['f618', 'f619', 'f645', 'f646'], 'x670': ['f619', 'f620', 'f646', 'f647'], 'x671': ['f620', 'f621', 'f647', 'f648'], 'x672': ['f621', 'f648'], 'x673': ['f622', 'f649'], 'x674': ['f622', 'f623', 'f649', 'f650'], 'x675': ['f623', 'f624', 'f650', 'f651'], 'x676': ['f624', 'f625', 'f651', 'f652'], 'x677': ['f625', 'f626', 'f652', 'f653'], 'x678': ['f626', 'f627', 'f653', 'f654'], 'x679': ['f627', 'f628', 'f654', 'f655'], 'x680': ['f628', 'f629', 'f655', 'f656'], 'x681': ['f629', 'f630', 'f656', 'f657'], 'x682': ['f630', 'f631', 'f657', 'f658'], 'x683': ['f631', 'f632', 'f658', 'f659'], 'x684': ['f632', 'f633', 'f659', 'f660'], 'x685': ['f633', 'f634', 'f660', 'f661'], 'x686': ['f634', 'f635', 'f661', 'f662'], 'x687': ['f635', 'f636', 'f662', 'f663'], 'x688': ['f636', 'f637', 'f663', 'f664'], 'x689': ['f637', 'f638', 'f664', 'f665'], 'x690': ['f638', 'f639', 'f665', 'f666'], 'x691': ['f639', 'f640', 'f666', 'f667'], 'x692': ['f640', 'f641', 'f667', 'f668'], 'x693': ['f641', 'f642', 'f668', 'f669'], 'x694': ['f642', 'f643', 'f669', 'f670'], 'x695': ['f643', 'f644', 'f670', 'f671'], 'x696': ['f644', 'f645', 'f671', 'f672'], 'x697': ['f645', 'f646', 'f672', 'f673'], 'x698': ['f646', 'f647', 'f673', 'f674'], 'x699': ['f647', 'f648', 'f674', 'f675'], 'x700': ['f648', 'f675'], 'x701': ['f649', 'f676'], 'x702': ['f649', 'f650', 'f676', 'f677'], 'x703': ['f650', 'f651', 'f677', 'f678'], 'x704': ['f651', 'f652', 'f678', 'f679'], 'x705': ['f652', 'f653', 'f679', 'f680'], 'x706': ['f653', 'f654', 'f680', 'f681'], 'x707': ['f654', 'f655', 'f681', 'f682'], 'x708': ['f655', 'f656', 'f682', 'f683'], 'x709': ['f656', 'f657', 'f683', 'f684'], 'x710': ['f657', 'f658', 'f684', 'f685'], 'x711': ['f658', 'f659', 'f685', 'f686'], 'x712': ['f659', 'f660', 'f686', 'f687'], 'x713': ['f660', 'f661', 'f687', 'f688'], 'x714': ['f661', 'f662', 'f688', 'f689'], 'x715': ['f662', 'f663', 'f689', 'f690'], 'x716': ['f663', 'f664', 'f690', 'f691'], 'x717': ['f664', 'f665', 'f691', 'f692'], 'x718': ['f665', 'f666', 'f692', 'f693'], 'x719': ['f666', 'f667', 'f693', 'f694'], 'x720': ['f667', 'f668', 'f694', 'f695'], 'x721': ['f668', 'f669', 'f695', 'f696'], 'x722': ['f669', 'f670', 'f696', 'f697'], 'x723': ['f670', 'f671', 'f697', 'f698'], 'x724': ['f671', 'f672', 'f698', 'f699'], 'x725': ['f672', 'f673', 'f699', 'f700'], 'x726': ['f673', 'f674', 'f700', 'f701'], 'x727': ['f674', 'f675', 'f701', 'f702'], 'x728': ['f675', 'f702'], 'x729': ['f676', 'f703'], 'x730': ['f676', 'f677', 'f703', 'f704'], 'x731': ['f677', 'f678', 'f704', 'f705'], 'x732': ['f678', 'f679', 'f705', 'f706'], 'x733': ['f679', 'f680', 'f706', 'f707'], 'x734': ['f680', 'f681', 'f707', 'f708'], 'x735': ['f681', 'f682', 'f708', 'f709'], 'x736': ['f682', 'f683', 'f709', 'f710'], 'x737': ['f683', 'f684', 'f710', 'f711'], 'x738': ['f684', 'f685', 'f711', 'f712'], 'x739': ['f685', 'f686', 'f712', 'f713'], 'x740': ['f686', 'f687', 'f713', 'f714'], 'x741': ['f687', 'f688', 'f714', 'f715'], 'x742': ['f688', 'f689', 'f715', 'f716'], 'x743': ['f689', 'f690', 'f716', 'f717'], 'x744': ['f690', 'f691', 'f717', 'f718'], 'x745': ['f691', 'f692', 'f718', 'f719'], 'x746': ['f692', 'f693', 'f719', 'f720'], 'x747': ['f693', 'f694', 'f720', 'f721'], 'x748': ['f694', 'f695', 'f721', 'f722'], 'x749': ['f695', 'f696', 'f722', 'f723'], 'x750': ['f696', 'f697', 'f723', 'f724'], 'x751': ['f697', 'f698', 'f724', 'f725'], 'x752': ['f698', 'f699', 'f725', 'f726'], 'x753': ['f699', 'f700', 'f726', 'f727'], 'x754': ['f700', 'f701', 'f727', 'f728'], 'x755': ['f701', 'f702', 'f728', 'f729'], 'x756': ['f702', 'f729'], 'x757': ['f703'], 'x758': ['f703', 'f704'], 'x759': ['f704', 'f705'], 'x760': ['f705', 'f706'], 'x761': ['f706', 'f707'], 'x762': ['f707', 'f708'], 'x763': ['f708', 'f709'], 'x764': ['f709', 'f710'], 'x765': ['f710', 'f711'], 'x766': ['f711', 'f712'], 'x767': ['f712', 'f713'], 'x768': ['f713', 'f714'], 'x769': ['f714', 'f715'], 'x770': ['f715', 'f716'], 'x771': ['f716', 'f717'], 'x772': ['f717', 'f718'], 'x773': ['f718', 'f719'], 'x774': ['f719', 'f720'], 'x775': ['f720', 'f721'], 'x776': ['f721', 'f722'], 'x777': ['f722', 'f723'], 'x778': ['f723', 'f724'], 'x779': ['f724', 'f725'], 'x780': ['f725', 'f726'], 'x781': ['f726', 'f727'], 'x782': ['f727', 'f728'], 'x783': ['f728', 'f729'], 'x784': ['f729'], 'f1': ['x1', 'x2', 'x29', 'x30'], 'f2': ['x2', 'x3', 'x30', 'x31'], 'f3': ['x3', 'x4', 'x31', 'x32'], 'f4': ['x4', 'x5', 'x32', 'x33'], 'f5': ['x5', 'x6', 'x33', 'x34'], 'f6': ['x6', 'x7', 'x34', 'x35'], 'f7': ['x7', 'x8', 'x35', 'x36'], 'f8': ['x8', 'x9', 'x36', 'x37'], 'f9': ['x9', 'x10', 'x37', 'x38'], 'f10': ['x10', 'x11', 'x38', 'x39'], 'f11': ['x11', 'x12', 'x39', 'x40'], 'f12': ['x12', 'x13', 'x40', 'x41'], 'f13': ['x13', 'x14', 'x41', 'x42'], 'f14': ['x14', 'x15', 'x42', 'x43'], 'f15': ['x15', 'x16', 'x43', 'x44'], 'f16': ['x16', 'x17', 'x44', 'x45'], 'f17': ['x17', 'x18', 'x45', 'x46'], 'f18': ['x18', 'x19', 'x46', 'x47'], 'f19': ['x19', 'x20', 'x47', 'x48'], 'f20': ['x20', 'x21', 'x48', 'x49'], 'f21': ['x21', 'x22', 'x49', 'x50'], 'f22': ['x22', 'x23', 'x50', 'x51'], 'f23': ['x23', 'x24', 'x51', 'x52'], 'f24': ['x24', 'x25', 'x52', 'x53'], 'f25': ['x25', 'x26', 'x53', 'x54'], 'f26': ['x26', 'x27', 'x54', 'x55'], 'f27': ['x27', 'x28', 'x55', 'x56'], 'f28': ['x29', 'x30', 'x57', 'x58'], 'f29': ['x30', 'x31', 'x58', 'x59'], 'f30': ['x31', 'x32', 'x59', 'x60'], 'f31': ['x32', 'x33', 'x60', 'x61'], 'f32': ['x33', 'x34', 'x61', 'x62'], 'f33': ['x34', 'x35', 'x62', 'x63'], 'f34': ['x35', 'x36', 'x63', 'x64'], 'f35': ['x36', 'x37', 'x64', 'x65'], 'f36': ['x37', 'x38', 'x65', 'x66'], 'f37': ['x38', 'x39', 'x66', 'x67'], 'f38': ['x39', 'x40', 'x67', 'x68'], 'f39': ['x40', 'x41', 'x68', 'x69'], 'f40': ['x41', 'x42', 'x69', 'x70'], 'f41': ['x42', 'x43', 'x70', 'x71'], 'f42': ['x43', 'x44', 'x71', 'x72'], 'f43': ['x44', 'x45', 'x72', 'x73'], 'f44': ['x45', 'x46', 'x73', 'x74'], 'f45': ['x46', 'x47', 'x74', 'x75'], 'f46': ['x47', 'x48', 'x75', 'x76'], 'f47': ['x48', 'x49', 'x76', 'x77'], 'f48': ['x49', 'x50', 'x77', 'x78'], 'f49': ['x50', 'x51', 'x78', 'x79'], 'f50': ['x51', 'x52', 'x79', 'x80'], 'f51': ['x52', 'x53', 'x80', 'x81'], 'f52': ['x53', 'x54', 'x81', 'x82'], 'f53': ['x54', 'x55', 'x82', 'x83'], 'f54': ['x55', 'x56', 'x83', 'x84'], 'f55': ['x57', 'x58', 'x85', 'x86'], 'f56': ['x58', 'x59', 'x86', 'x87'], 'f57': ['x59', 'x60', 'x87', 'x88'], 'f58': ['x60', 'x61', 'x88', 'x89'], 'f59': ['x61', 'x62', 'x89', 'x90'], 'f60': ['x62', 'x63', 'x90', 'x91'], 'f61': ['x63', 'x64', 'x91', 'x92'], 'f62': ['x64', 'x65', 'x92', 'x93'], 'f63': ['x65', 'x66', 'x93', 'x94'], 'f64': ['x66', 'x67', 'x94', 'x95'], 'f65': ['x67', 'x68', 'x95', 'x96'], 'f66': ['x68', 'x69', 'x96', 'x97'], 'f67': ['x69', 'x70', 'x97', 'x98'], 'f68': ['x70', 'x71', 'x98', 'x99'], 'f69': ['x71', 'x72', 'x99', 'x100'], 'f70': ['x72', 'x73', 'x100', 'x101'], 'f71': ['x73', 'x74', 'x101', 'x102'], 'f72': ['x74', 'x75', 'x102', 'x103'], 'f73': ['x75', 'x76', 'x103', 'x104'], 'f74': ['x76', 'x77', 'x104', 'x105'], 'f75': ['x77', 'x78', 'x105', 'x106'], 'f76': ['x78', 'x79', 'x106', 'x107'], 'f77': ['x79', 'x80', 'x107', 'x108'], 'f78': ['x80', 'x81', 'x108', 'x109'], 'f79': ['x81', 'x82', 'x109', 'x110'], 'f80': ['x82', 'x83', 'x110', 'x111'], 'f81': ['x83', 'x84', 'x111', 'x112'], 'f82': ['x85', 'x86', 'x113', 'x114'], 'f83': ['x86', 'x87', 'x114', 'x115'], 'f84': ['x87', 'x88', 'x115', 'x116'], 'f85': ['x88', 'x89', 'x116', 'x117'], 'f86': ['x89', 'x90', 'x117', 'x118'], 'f87': ['x90', 'x91', 'x118', 'x119'], 'f88': ['x91', 'x92', 'x119', 'x120'], 'f89': ['x92', 'x93', 'x120', 'x121'], 'f90': ['x93', 'x94', 'x121', 'x122'], 'f91': ['x94', 'x95', 'x122', 'x123'], 'f92': ['x95', 'x96', 'x123', 'x124'], 'f93': ['x96', 'x97', 'x124', 'x125'], 'f94': ['x97', 'x98', 'x125', 'x126'], 'f95': ['x98', 'x99', 'x126', 'x127'], 'f96': ['x99', 'x100', 'x127', 'x128'], 'f97': ['x100', 'x101', 'x128', 'x129'], 'f98': ['x101', 'x102', 'x129', 'x130'], 'f99': ['x102', 'x103', 'x130', 'x131'], 'f100': ['x103', 'x104', 'x131', 'x132'], 'f101': ['x104', 'x105', 'x132', 'x133'], 'f102': ['x105', 'x106', 'x133', 'x134'], 'f103': ['x106', 'x107', 'x134', 'x135'], 'f104': ['x107', 'x108', 'x135', 'x136'], 'f105': ['x108', 'x109', 'x136', 'x137'], 'f106': ['x109', 'x110', 'x137', 'x138'], 'f107': ['x110', 'x111', 'x138', 'x139'], 'f108': ['x111', 'x112', 'x139', 'x140'], 'f109': ['x113', 'x114', 'x141', 'x142'], 'f110': ['x114', 'x115', 'x142', 'x143'], 'f111': ['x115', 'x116', 'x143', 'x144'], 'f112': ['x116', 'x117', 'x144', 'x145'], 'f113': ['x117', 'x118', 'x145', 'x146'], 'f114': ['x118', 'x119', 'x146', 'x147'], 'f115': ['x119', 'x120', 'x147', 'x148'], 'f116': ['x120', 'x121', 'x148', 'x149'], 'f117': ['x121', 'x122', 'x149', 'x150'], 'f118': ['x122', 'x123', 'x150', 'x151'], 'f119': ['x123', 'x124', 'x151', 'x152'], 'f120': ['x124', 'x125', 'x152', 'x153'], 'f121': ['x125', 'x126', 'x153', 'x154'], 'f122': ['x126', 'x127', 'x154', 'x155'], 'f123': ['x127', 'x128', 'x155', 'x156'], 'f124': ['x128', 'x129', 'x156', 'x157'], 'f125': ['x129', 'x130', 'x157', 'x158'], 'f126': ['x130', 'x131', 'x158', 'x159'], 'f127': ['x131', 'x132', 'x159', 'x160'], 'f128': ['x132', 'x133', 'x160', 'x161'], 'f129': ['x133', 'x134', 'x161', 'x162'], 'f130': ['x134', 'x135', 'x162', 'x163'], 'f131': ['x135', 'x136', 'x163', 'x164'], 'f132': ['x136', 'x137', 'x164', 'x165'], 'f133': ['x137', 'x138', 'x165', 'x166'], 'f134': ['x138', 'x139', 'x166', 'x167'], 'f135': ['x139', 'x140', 'x167', 'x168'], 'f136': ['x141', 'x142', 'x169', 'x170'], 'f137': ['x142', 'x143', 'x170', 'x171'], 'f138': ['x143', 'x144', 'x171', 'x172'], 'f139': ['x144', 'x145', 'x172', 'x173'], 'f140': ['x145', 'x146', 'x173', 'x174'], 'f141': ['x146', 'x147', 'x174', 'x175'], 'f142': ['x147', 'x148', 'x175', 'x176'], 'f143': ['x148', 'x149', 'x176', 'x177'], 'f144': ['x149', 'x150', 'x177', 'x178'], 'f145': ['x150', 'x151', 'x178', 'x179'], 'f146': ['x151', 'x152', 'x179', 'x180'], 'f147': ['x152', 'x153', 'x180', 'x181'], 'f148': ['x153', 'x154', 'x181', 'x182'], 'f149': ['x154', 'x155', 'x182', 'x183'], 'f150': ['x155', 'x156', 'x183', 'x184'], 'f151': ['x156', 'x157', 'x184', 'x185'], 'f152': ['x157', 'x158', 'x185', 'x186'], 'f153': ['x158', 'x159', 'x186', 'x187'], 'f154': ['x159', 'x160', 'x187', 'x188'], 'f155': ['x160', 'x161', 'x188', 'x189'], 'f156': ['x161', 'x162', 'x189', 'x190'], 'f157': ['x162', 'x163', 'x190', 'x191'], 'f158': ['x163', 'x164', 'x191', 'x192'], 'f159': ['x164', 'x165', 'x192', 'x193'], 'f160': ['x165', 'x166', 'x193', 'x194'], 'f161': ['x166', 'x167', 'x194', 'x195'], 'f162': ['x167', 'x168', 'x195', 'x196'], 'f163': ['x169', 'x170', 'x197', 'x198'], 'f164': ['x170', 'x171', 'x198', 'x199'], 'f165': ['x171', 'x172', 'x199', 'x200'], 'f166': ['x172', 'x173', 'x200', 'x201'], 'f167': ['x173', 'x174', 'x201', 'x202'], 'f168': ['x174', 'x175', 'x202', 'x203'], 'f169': ['x175', 'x176', 'x203', 'x204'], 'f170': ['x176', 'x177', 'x204', 'x205'], 'f171': ['x177', 'x178', 'x205', 'x206'], 'f172': ['x178', 'x179', 'x206', 'x207'], 'f173': ['x179', 'x180', 'x207', 'x208'], 'f174': ['x180', 'x181', 'x208', 'x209'], 'f175': ['x181', 'x182', 'x209', 'x210'], 'f176': ['x182', 'x183', 'x210', 'x211'], 'f177': ['x183', 'x184', 'x211', 'x212'], 'f178': ['x184', 'x185', 'x212', 'x213'], 'f179': ['x185', 'x186', 'x213', 'x214'], 'f180': ['x186', 'x187', 'x214', 'x215'], 'f181': ['x187', 'x188', 'x215', 'x216'], 'f182': ['x188', 'x189', 'x216', 'x217'], 'f183': ['x189', 'x190', 'x217', 'x218'], 'f184': ['x190', 'x191', 'x218', 'x219'], 'f185': ['x191', 'x192', 'x219', 'x220'], 'f186': ['x192', 'x193', 'x220', 'x221'], 'f187': ['x193', 'x194', 'x221', 'x222'], 'f188': ['x194', 'x195', 'x222', 'x223'], 'f189': ['x195', 'x196', 'x223', 'x224'], 'f190': ['x197', 'x198', 'x225', 'x226'], 'f191': ['x198', 'x199', 'x226', 'x227'], 'f192': ['x199', 'x200', 'x227', 'x228'], 'f193': ['x200', 'x201', 'x228', 'x229'], 'f194': ['x201', 'x202', 'x229', 'x230'], 'f195': ['x202', 'x203', 'x230', 'x231'], 'f196': ['x203', 'x204', 'x231', 'x232'], 'f197': ['x204', 'x205', 'x232', 'x233'], 'f198': ['x205', 'x206', 'x233', 'x234'], 'f199': ['x206', 'x207', 'x234', 'x235'], 'f200': ['x207', 'x208', 'x235', 'x236'], 'f201': ['x208', 'x209', 'x236', 'x237'], 'f202': ['x209', 'x210', 'x237', 'x238'], 'f203': ['x210', 'x211', 'x238', 'x239'], 'f204': ['x211', 'x212', 'x239', 'x240'], 'f205': ['x212', 'x213', 'x240', 'x241'], 'f206': ['x213', 'x214', 'x241', 'x242'], 'f207': ['x214', 'x215', 'x242', 'x243'], 'f208': ['x215', 'x216', 'x243', 'x244'], 'f209': ['x216', 'x217', 'x244', 'x245'], 'f210': ['x217', 'x218', 'x245', 'x246'], 'f211': ['x218', 'x219', 'x246', 'x247'], 'f212': ['x219', 'x220', 'x247', 'x248'], 'f213': ['x220', 'x221', 'x248', 'x249'], 'f214': ['x221', 'x222', 'x249', 'x250'], 'f215': ['x222', 'x223', 'x250', 'x251'], 'f216': ['x223', 'x224', 'x251', 'x252'], 'f217': ['x225', 'x226', 'x253', 'x254'], 'f218': ['x226', 'x227', 'x254', 'x255'], 'f219': ['x227', 'x228', 'x255', 'x256'], 'f220': ['x228', 'x229', 'x256', 'x257'], 'f221': ['x229', 'x230', 'x257', 'x258'], 'f222': ['x230', 'x231', 'x258', 'x259'], 'f223': ['x231', 'x232', 'x259', 'x260'], 'f224': ['x232', 'x233', 'x260', 'x261'], 'f225': ['x233', 'x234', 'x261', 'x262'], 'f226': ['x234', 'x235', 'x262', 'x263'], 'f227': ['x235', 'x236', 'x263', 'x264'], 'f228': ['x236', 'x237', 'x264', 'x265'], 'f229': ['x237', 'x238', 'x265', 'x266'], 'f230': ['x238', 'x239', 'x266', 'x267'], 'f231': ['x239', 'x240', 'x267', 'x268'], 'f232': ['x240', 'x241', 'x268', 'x269'], 'f233': ['x241', 'x242', 'x269', 'x270'], 'f234': ['x242', 'x243', 'x270', 'x271'], 'f235': ['x243', 'x244', 'x271', 'x272'], 'f236': ['x244', 'x245', 'x272', 'x273'], 'f237': ['x245', 'x246', 'x273', 'x274'], 'f238': ['x246', 'x247', 'x274', 'x275'], 'f239': ['x247', 'x248', 'x275', 'x276'], 'f240': ['x248', 'x249', 'x276', 'x277'], 'f241': ['x249', 'x250', 'x277', 'x278'], 'f242': ['x250', 'x251', 'x278', 'x279'], 'f243': ['x251', 'x252', 'x279', 'x280'], 'f244': ['x253', 'x254', 'x281', 'x282'], 'f245': ['x254', 'x255', 'x282', 'x283'], 'f246': ['x255', 'x256', 'x283', 'x284'], 'f247': ['x256', 'x257', 'x284', 'x285'], 'f248': ['x257', 'x258', 'x285', 'x286'], 'f249': ['x258', 'x259', 'x286', 'x287'], 'f250': ['x259', 'x260', 'x287', 'x288'], 'f251': ['x260', 'x261', 'x288', 'x289'], 'f252': ['x261', 'x262', 'x289', 'x290'], 'f253': ['x262', 'x263', 'x290', 'x291'], 'f254': ['x263', 'x264', 'x291', 'x292'], 'f255': ['x264', 'x265', 'x292', 'x293'], 'f256': ['x265', 'x266', 'x293', 'x294'], 'f257': ['x266', 'x267', 'x294', 'x295'], 'f258': ['x267', 'x268', 'x295', 'x296'], 'f259': ['x268', 'x269', 'x296', 'x297'], 'f260': ['x269', 'x270', 'x297', 'x298'], 'f261': ['x270', 'x271', 'x298', 'x299'], 'f262': ['x271', 'x272', 'x299', 'x300'], 'f263': ['x272', 'x273', 'x300', 'x301'], 'f264': ['x273', 'x274', 'x301', 'x302'], 'f265': ['x274', 'x275', 'x302', 'x303'], 'f266': ['x275', 'x276', 'x303', 'x304'], 'f267': ['x276', 'x277', 'x304', 'x305'], 'f268': ['x277', 'x278', 'x305', 'x306'], 'f269': ['x278', 'x279', 'x306', 'x307'], 'f270': ['x279', 'x280', 'x307', 'x308'], 'f271': ['x281', 'x282', 'x309', 'x310'], 'f272': ['x282', 'x283', 'x310', 'x311'], 'f273': ['x283', 'x284', 'x311', 'x312'], 'f274': ['x284', 'x285', 'x312', 'x313'], 'f275': ['x285', 'x286', 'x313', 'x314'], 'f276': ['x286', 'x287', 'x314', 'x315'], 'f277': ['x287', 'x288', 'x315', 'x316'], 'f278': ['x288', 'x289', 'x316', 'x317'], 'f279': ['x289', 'x290', 'x317', 'x318'], 'f280': ['x290', 'x291', 'x318', 'x319'], 'f281': ['x291', 'x292', 'x319', 'x320'], 'f282': ['x292', 'x293', 'x320', 'x321'], 'f283': ['x293', 'x294', 'x321', 'x322'], 'f284': ['x294', 'x295', 'x322', 'x323'], 'f285': ['x295', 'x296', 'x323', 'x324'], 'f286': ['x296', 'x297', 'x324', 'x325'], 'f287': ['x297', 'x298', 'x325', 'x326'], 'f288': ['x298', 'x299', 'x326', 'x327'], 'f289': ['x299', 'x300', 'x327', 'x328'], 'f290': ['x300', 'x301', 'x328', 'x329'], 'f291': ['x301', 'x302', 'x329', 'x330'], 'f292': ['x302', 'x303', 'x330', 'x331'], 'f293': ['x303', 'x304', 'x331', 'x332'], 'f294': ['x304', 'x305', 'x332', 'x333'], 'f295': ['x305', 'x306', 'x333', 'x334'], 'f296': ['x306', 'x307', 'x334', 'x335'], 'f297': ['x307', 'x308', 'x335', 'x336'], 'f298': ['x309', 'x310', 'x337', 'x338'], 'f299': ['x310', 'x311', 'x338', 'x339'], 'f300': ['x311', 'x312', 'x339', 'x340'], 'f301': ['x312', 'x313', 'x340', 'x341'], 'f302': ['x313', 'x314', 'x341', 'x342'], 'f303': ['x314', 'x315', 'x342', 'x343'], 'f304': ['x315', 'x316', 'x343', 'x344'], 'f305': ['x316', 'x317', 'x344', 'x345'], 'f306': ['x317', 'x318', 'x345', 'x346'], 'f307': ['x318', 'x319', 'x346', 'x347'], 'f308': ['x319', 'x320', 'x347', 'x348'], 'f309': ['x320', 'x321', 'x348', 'x349'], 'f310': ['x321', 'x322', 'x349', 'x350'], 'f311': ['x322', 'x323', 'x350', 'x351'], 'f312': ['x323', 'x324', 'x351', 'x352'], 'f313': ['x324', 'x325', 'x352', 'x353'], 'f314': ['x325', 'x326', 'x353', 'x354'], 'f315': ['x326', 'x327', 'x354', 'x355'], 'f316': ['x327', 'x328', 'x355', 'x356'], 'f317': ['x328', 'x329', 'x356', 'x357'], 'f318': ['x329', 'x330', 'x357', 'x358'], 'f319': ['x330', 'x331', 'x358', 'x359'], 'f320': ['x331', 'x332', 'x359', 'x360'], 'f321': ['x332', 'x333', 'x360', 'x361'], 'f322': ['x333', 'x334', 'x361', 'x362'], 'f323': ['x334', 'x335', 'x362', 'x363'], 'f324': ['x335', 'x336', 'x363', 'x364'], 'f325': ['x337', 'x338', 'x365', 'x366'], 'f326': ['x338', 'x339', 'x366', 'x367'], 'f327': ['x339', 'x340', 'x367', 'x368'], 'f328': ['x340', 'x341', 'x368', 'x369'], 'f329': ['x341', 'x342', 'x369', 'x370'], 'f330': ['x342', 'x343', 'x370', 'x371'], 'f331': ['x343', 'x344', 'x371', 'x372'], 'f332': ['x344', 'x345', 'x372', 'x373'], 'f333': ['x345', 'x346', 'x373', 'x374'], 'f334': ['x346', 'x347', 'x374', 'x375'], 'f335': ['x347', 'x348', 'x375', 'x376'], 'f336': ['x348', 'x349', 'x376', 'x377'], 'f337': ['x349', 'x350', 'x377', 'x378'], 'f338': ['x350', 'x351', 'x378', 'x379'], 'f339': ['x351', 'x352', 'x379', 'x380'], 'f340': ['x352', 'x353', 'x380', 'x381'], 'f341': ['x353', 'x354', 'x381', 'x382'], 'f342': ['x354', 'x355', 'x382', 'x383'], 'f343': ['x355', 'x356', 'x383', 'x384'], 'f344': ['x356', 'x357', 'x384', 'x385'], 'f345': ['x357', 'x358', 'x385', 'x386'], 'f346': ['x358', 'x359', 'x386', 'x387'], 'f347': ['x359', 'x360', 'x387', 'x388'], 'f348': ['x360', 'x361', 'x388', 'x389'], 'f349': ['x361', 'x362', 'x389', 'x390'], 'f350': ['x362', 'x363', 'x390', 'x391'], 'f351': ['x363', 'x364', 'x391', 'x392'], 'f352': ['x365', 'x366', 'x393', 'x394'], 'f353': ['x366', 'x367', 'x394', 'x395'], 'f354': ['x367', 'x368', 'x395', 'x396'], 'f355': ['x368', 'x369', 'x396', 'x397'], 'f356': ['x369', 'x370', 'x397', 'x398'], 'f357': ['x370', 'x371', 'x398', 'x399'], 'f358': ['x371', 'x372', 'x399', 'x400'], 'f359': ['x372', 'x373', 'x400', 'x401'], 'f360': ['x373', 'x374', 'x401', 'x402'], 'f361': ['x374', 'x375', 'x402', 'x403'], 'f362': ['x375', 'x376', 'x403', 'x404'], 'f363': ['x376', 'x377', 'x404', 'x405'], 'f364': ['x377', 'x378', 'x405', 'x406'], 'f365': ['x378', 'x379', 'x406', 'x407'], 'f366': ['x379', 'x380', 'x407', 'x408'], 'f367': ['x380', 'x381', 'x408', 'x409'], 'f368': ['x381', 'x382', 'x409', 'x410'], 'f369': ['x382', 'x383', 'x410', 'x411'], 'f370': ['x383', 'x384', 'x411', 'x412'], 'f371': ['x384', 'x385', 'x412', 'x413'], 'f372': ['x385', 'x386', 'x413', 'x414'], 'f373': ['x386', 'x387', 'x414', 'x415'], 'f374': ['x387', 'x388', 'x415', 'x416'], 'f375': ['x388', 'x389', 'x416', 'x417'], 'f376': ['x389', 'x390', 'x417', 'x418'], 'f377': ['x390', 'x391', 'x418', 'x419'], 'f378': ['x391', 'x392', 'x419', 'x420'], 'f379': ['x393', 'x394', 'x421', 'x422'], 'f380': ['x394', 'x395', 'x422', 'x423'], 'f381': ['x395', 'x396', 'x423', 'x424'], 'f382': ['x396', 'x397', 'x424', 'x425'], 'f383': ['x397', 'x398', 'x425', 'x426'], 'f384': ['x398', 'x399', 'x426', 'x427'], 'f385': ['x399', 'x400', 'x427', 'x428'], 'f386': ['x400', 'x401', 'x428', 'x429'], 'f387': ['x401', 'x402', 'x429', 'x430'], 'f388': ['x402', 'x403', 'x430', 'x431'], 'f389': ['x403', 'x404', 'x431', 'x432'], 'f390': ['x404', 'x405', 'x432', 'x433'], 'f391': ['x405', 'x406', 'x433', 'x434'], 'f392': ['x406', 'x407', 'x434', 'x435'], 'f393': ['x407', 'x408', 'x435', 'x436'], 'f394': ['x408', 'x409', 'x436', 'x437'], 'f395': ['x409', 'x410', 'x437', 'x438'], 'f396': ['x410', 'x411', 'x438', 'x439'], 'f397': ['x411', 'x412', 'x439', 'x440'], 'f398': ['x412', 'x413', 'x440', 'x441'], 'f399': ['x413', 'x414', 'x441', 'x442'], 'f400': ['x414', 'x415', 'x442', 'x443'], 'f401': ['x415', 'x416', 'x443', 'x444'], 'f402': ['x416', 'x417', 'x444', 'x445'], 'f403': ['x417', 'x418', 'x445', 'x446'], 'f404': ['x418', 'x419', 'x446', 'x447'], 'f405': ['x419', 'x420', 'x447', 'x448'], 'f406': ['x421', 'x422', 'x449', 'x450'], 'f407': ['x422', 'x423', 'x450', 'x451'], 'f408': ['x423', 'x424', 'x451', 'x452'], 'f409': ['x424', 'x425', 'x452', 'x453'], 'f410': ['x425', 'x426', 'x453', 'x454'], 'f411': ['x426', 'x427', 'x454', 'x455'], 'f412': ['x427', 'x428', 'x455', 'x456'], 'f413': ['x428', 'x429', 'x456', 'x457'], 'f414': ['x429', 'x430', 'x457', 'x458'], 'f415': ['x430', 'x431', 'x458', 'x459'], 'f416': ['x431', 'x432', 'x459', 'x460'], 'f417': ['x432', 'x433', 'x460', 'x461'], 'f418': ['x433', 'x434', 'x461', 'x462'], 'f419': ['x434', 'x435', 'x462', 'x463'], 'f420': ['x435', 'x436', 'x463', 'x464'], 'f421': ['x436', 'x437', 'x464', 'x465'], 'f422': ['x437', 'x438', 'x465', 'x466'], 'f423': ['x438', 'x439', 'x466', 'x467'], 'f424': ['x439', 'x440', 'x467', 'x468'], 'f425': ['x440', 'x441', 'x468', 'x469'], 'f426': ['x441', 'x442', 'x469', 'x470'], 'f427': ['x442', 'x443', 'x470', 'x471'], 'f428': ['x443', 'x444', 'x471', 'x472'], 'f429': ['x444', 'x445', 'x472', 'x473'], 'f430': ['x445', 'x446', 'x473', 'x474'], 'f431': ['x446', 'x447', 'x474', 'x475'], 'f432': ['x447', 'x448', 'x475', 'x476'], 'f433': ['x449', 'x450', 'x477', 'x478'], 'f434': ['x450', 'x451', 'x478', 'x479'], 'f435': ['x451', 'x452', 'x479', 'x480'], 'f436': ['x452', 'x453', 'x480', 'x481'], 'f437': ['x453', 'x454', 'x481', 'x482'], 'f438': ['x454', 'x455', 'x482', 'x483'], 'f439': ['x455', 'x456', 'x483', 'x484'], 'f440': ['x456', 'x457', 'x484', 'x485'], 'f441': ['x457', 'x458', 'x485', 'x486'], 'f442': ['x458', 'x459', 'x486', 'x487'], 'f443': ['x459', 'x460', 'x487', 'x488'], 'f444': ['x460', 'x461', 'x488', 'x489'], 'f445': ['x461', 'x462', 'x489', 'x490'], 'f446': ['x462', 'x463', 'x490', 'x491'], 'f447': ['x463', 'x464', 'x491', 'x492'], 'f448': ['x464', 'x465', 'x492', 'x493'], 'f449': ['x465', 'x466', 'x493', 'x494'], 'f450': ['x466', 'x467', 'x494', 'x495'], 'f451': ['x467', 'x468', 'x495', 'x496'], 'f452': ['x468', 'x469', 'x496', 'x497'], 'f453': ['x469', 'x470', 'x497', 'x498'], 'f454': ['x470', 'x471', 'x498', 'x499'], 'f455': ['x471', 'x472', 'x499', 'x500'], 'f456': ['x472', 'x473', 'x500', 'x501'], 'f457': ['x473', 'x474', 'x501', 'x502'], 'f458': ['x474', 'x475', 'x502', 'x503'], 'f459': ['x475', 'x476', 'x503', 'x504'], 'f460': ['x477', 'x478', 'x505', 'x506'], 'f461': ['x478', 'x479', 'x506', 'x507'], 'f462': ['x479', 'x480', 'x507', 'x508'], 'f463': ['x480', 'x481', 'x508', 'x509'], 'f464': ['x481', 'x482', 'x509', 'x510'], 'f465': ['x482', 'x483', 'x510', 'x511'], 'f466': ['x483', 'x484', 'x511', 'x512'], 'f467': ['x484', 'x485', 'x512', 'x513'], 'f468': ['x485', 'x486', 'x513', 'x514'], 'f469': ['x486', 'x487', 'x514', 'x515'], 'f470': ['x487', 'x488', 'x515', 'x516'], 'f471': ['x488', 'x489', 'x516', 'x517'], 'f472': ['x489', 'x490', 'x517', 'x518'], 'f473': ['x490', 'x491', 'x518', 'x519'], 'f474': ['x491', 'x492', 'x519', 'x520'], 'f475': ['x492', 'x493', 'x520', 'x521'], 'f476': ['x493', 'x494', 'x521', 'x522'], 'f477': ['x494', 'x495', 'x522', 'x523'], 'f478': ['x495', 'x496', 'x523', 'x524'], 'f479': ['x496', 'x497', 'x524', 'x525'], 'f480': ['x497', 'x498', 'x525', 'x526'], 'f481': ['x498', 'x499', 'x526', 'x527'], 'f482': ['x499', 'x500', 'x527', 'x528'], 'f483': ['x500', 'x501', 'x528', 'x529'], 'f484': ['x501', 'x502', 'x529', 'x530'], 'f485': ['x502', 'x503', 'x530', 'x531'], 'f486': ['x503', 'x504', 'x531', 'x532'], 'f487': ['x505', 'x506', 'x533', 'x534'], 'f488': ['x506', 'x507', 'x534', 'x535'], 'f489': ['x507', 'x508', 'x535', 'x536'], 'f490': ['x508', 'x509', 'x536', 'x537'], 'f491': ['x509', 'x510', 'x537', 'x538'], 'f492': ['x510', 'x511', 'x538', 'x539'], 'f493': ['x511', 'x512', 'x539', 'x540'], 'f494': ['x512', 'x513', 'x540', 'x541'], 'f495': ['x513', 'x514', 'x541', 'x542'], 'f496': ['x514', 'x515', 'x542', 'x543'], 'f497': ['x515', 'x516', 'x543', 'x544'], 'f498': ['x516', 'x517', 'x544', 'x545'], 'f499': ['x517', 'x518', 'x545', 'x546'], 'f500': ['x518', 'x519', 'x546', 'x547'], 'f501': ['x519', 'x520', 'x547', 'x548'], 'f502': ['x520', 'x521', 'x548', 'x549'], 'f503': ['x521', 'x522', 'x549', 'x550'], 'f504': ['x522', 'x523', 'x550', 'x551'], 'f505': ['x523', 'x524', 'x551', 'x552'], 'f506': ['x524', 'x525', 'x552', 'x553'], 'f507': ['x525', 'x526', 'x553', 'x554'], 'f508': ['x526', 'x527', 'x554', 'x555'], 'f509': ['x527', 'x528', 'x555', 'x556'], 'f510': ['x528', 'x529', 'x556', 'x557'], 'f511': ['x529', 'x530', 'x557', 'x558'], 'f512': ['x530', 'x531', 'x558', 'x559'], 'f513': ['x531', 'x532', 'x559', 'x560'], 'f514': ['x533', 'x534', 'x561', 'x562'], 'f515': ['x534', 'x535', 'x562', 'x563'], 'f516': ['x535', 'x536', 'x563', 'x564'], 'f517': ['x536', 'x537', 'x564', 'x565'], 'f518': ['x537', 'x538', 'x565', 'x566'], 'f519': ['x538', 'x539', 'x566', 'x567'], 'f520': ['x539', 'x540', 'x567', 'x568'], 'f521': ['x540', 'x541', 'x568', 'x569'], 'f522': ['x541', 'x542', 'x569', 'x570'], 'f523': ['x542', 'x543', 'x570', 'x571'], 'f524': ['x543', 'x544', 'x571', 'x572'], 'f525': ['x544', 'x545', 'x572', 'x573'], 'f526': ['x545', 'x546', 'x573', 'x574'], 'f527': ['x546', 'x547', 'x574', 'x575'], 'f528': ['x547', 'x548', 'x575', 'x576'], 'f529': ['x548', 'x549', 'x576', 'x577'], 'f530': ['x549', 'x550', 'x577', 'x578'], 'f531': ['x550', 'x551', 'x578', 'x579'], 'f532': ['x551', 'x552', 'x579', 'x580'], 'f533': ['x552', 'x553', 'x580', 'x581'], 'f534': ['x553', 'x554', 'x581', 'x582'], 'f535': ['x554', 'x555', 'x582', 'x583'], 'f536': ['x555', 'x556', 'x583', 'x584'], 'f537': ['x556', 'x557', 'x584', 'x585'], 'f538': ['x557', 'x558', 'x585', 'x586'], 'f539': ['x558', 'x559', 'x586', 'x587'], 'f540': ['x559', 'x560', 'x587', 'x588'], 'f541': ['x561', 'x562', 'x589', 'x590'], 'f542': ['x562', 'x563', 'x590', 'x591'], 'f543': ['x563', 'x564', 'x591', 'x592'], 'f544': ['x564', 'x565', 'x592', 'x593'], 'f545': ['x565', 'x566', 'x593', 'x594'], 'f546': ['x566', 'x567', 'x594', 'x595'], 'f547': ['x567', 'x568', 'x595', 'x596'], 'f548': ['x568', 'x569', 'x596', 'x597'], 'f549': ['x569', 'x570', 'x597', 'x598'], 'f550': ['x570', 'x571', 'x598', 'x599'], 'f551': ['x571', 'x572', 'x599', 'x600'], 'f552': ['x572', 'x573', 'x600', 'x601'], 'f553': ['x573', 'x574', 'x601', 'x602'], 'f554': ['x574', 'x575', 'x602', 'x603'], 'f555': ['x575', 'x576', 'x603', 'x604'], 'f556': ['x576', 'x577', 'x604', 'x605'], 'f557': ['x577', 'x578', 'x605', 'x606'], 'f558': ['x578', 'x579', 'x606', 'x607'], 'f559': ['x579', 'x580', 'x607', 'x608'], 'f560': ['x580', 'x581', 'x608', 'x609'], 'f561': ['x581', 'x582', 'x609', 'x610'], 'f562': ['x582', 'x583', 'x610', 'x611'], 'f563': ['x583', 'x584', 'x611', 'x612'], 'f564': ['x584', 'x585', 'x612', 'x613'], 'f565': ['x585', 'x586', 'x613', 'x614'], 'f566': ['x586', 'x587', 'x614', 'x615'], 'f567': ['x587', 'x588', 'x615', 'x616'], 'f568': ['x589', 'x590', 'x617', 'x618'], 'f569': ['x590', 'x591', 'x618', 'x619'], 'f570': ['x591', 'x592', 'x619', 'x620'], 'f571': ['x592', 'x593', 'x620', 'x621'], 'f572': ['x593', 'x594', 'x621', 'x622'], 'f573': ['x594', 'x595', 'x622', 'x623'], 'f574': ['x595', 'x596', 'x623', 'x624'], 'f575': ['x596', 'x597', 'x624', 'x625'], 'f576': ['x597', 'x598', 'x625', 'x626'], 'f577': ['x598', 'x599', 'x626', 'x627'], 'f578': ['x599', 'x600', 'x627', 'x628'], 'f579': ['x600', 'x601', 'x628', 'x629'], 'f580': ['x601', 'x602', 'x629', 'x630'], 'f581': ['x602', 'x603', 'x630', 'x631'], 'f582': ['x603', 'x604', 'x631', 'x632'], 'f583': ['x604', 'x605', 'x632', 'x633'], 'f584': ['x605', 'x606', 'x633', 'x634'], 'f585': ['x606', 'x607', 'x634', 'x635'], 'f586': ['x607', 'x608', 'x635', 'x636'], 'f587': ['x608', 'x609', 'x636', 'x637'], 'f588': ['x609', 'x610', 'x637', 'x638'], 'f589': ['x610', 'x611', 'x638', 'x639'], 'f590': ['x611', 'x612', 'x639', 'x640'], 'f591': ['x612', 'x613', 'x640', 'x641'], 'f592': ['x613', 'x614', 'x641', 'x642'], 'f593': ['x614', 'x615', 'x642', 'x643'], 'f594': ['x615', 'x616', 'x643', 'x644'], 'f595': ['x617', 'x618', 'x645', 'x646'], 'f596': ['x618', 'x619', 'x646', 'x647'], 'f597': ['x619', 'x620', 'x647', 'x648'], 'f598': ['x620', 'x621', 'x648', 'x649'], 'f599': ['x621', 'x622', 'x649', 'x650'], 'f600': ['x622', 'x623', 'x650', 'x651'], 'f601': ['x623', 'x624', 'x651', 'x652'], 'f602': ['x624', 'x625', 'x652', 'x653'], 'f603': ['x625', 'x626', 'x653', 'x654'], 'f604': ['x626', 'x627', 'x654', 'x655'], 'f605': ['x627', 'x628', 'x655', 'x656'], 'f606': ['x628', 'x629', 'x656', 'x657'], 'f607': ['x629', 'x630', 'x657', 'x658'], 'f608': ['x630', 'x631', 'x658', 'x659'], 'f609': ['x631', 'x632', 'x659', 'x660'], 'f610': ['x632', 'x633', 'x660', 'x661'], 'f611': ['x633', 'x634', 'x661', 'x662'], 'f612': ['x634', 'x635', 'x662', 'x663'], 'f613': ['x635', 'x636', 'x663', 'x664'], 'f614': ['x636', 'x637', 'x664', 'x665'], 'f615': ['x637', 'x638', 'x665', 'x666'], 'f616': ['x638', 'x639', 'x666', 'x667'], 'f617': ['x639', 'x640', 'x667', 'x668'], 'f618': ['x640', 'x641', 'x668', 'x669'], 'f619': ['x641', 'x642', 'x669', 'x670'], 'f620': ['x642', 'x643', 'x670', 'x671'], 'f621': ['x643', 'x644', 'x671', 'x672'], 'f622': ['x645', 'x646', 'x673', 'x674'], 'f623': ['x646', 'x647', 'x674', 'x675'], 'f624': ['x647', 'x648', 'x675', 'x676'], 'f625': ['x648', 'x649', 'x676', 'x677'], 'f626': ['x649', 'x650', 'x677', 'x678'], 'f627': ['x650', 'x651', 'x678', 'x679'], 'f628': ['x651', 'x652', 'x679', 'x680'], 'f629': ['x652', 'x653', 'x680', 'x681'], 'f630': ['x653', 'x654', 'x681', 'x682'], 'f631': ['x654', 'x655', 'x682', 'x683'], 'f632': ['x655', 'x656', 'x683', 'x684'], 'f633': ['x656', 'x657', 'x684', 'x685'], 'f634': ['x657', 'x658', 'x685', 'x686'], 'f635': ['x658', 'x659', 'x686', 'x687'], 'f636': ['x659', 'x660', 'x687', 'x688'], 'f637': ['x660', 'x661', 'x688', 'x689'], 'f638': ['x661', 'x662', 'x689', 'x690'], 'f639': ['x662', 'x663', 'x690', 'x691'], 'f640': ['x663', 'x664', 'x691', 'x692'], 'f641': ['x664', 'x665', 'x692', 'x693'], 'f642': ['x665', 'x666', 'x693', 'x694'], 'f643': ['x666', 'x667', 'x694', 'x695'], 'f644': ['x667', 'x668', 'x695', 'x696'], 'f645': ['x668', 'x669', 'x696', 'x697'], 'f646': ['x669', 'x670', 'x697', 'x698'], 'f647': ['x670', 'x671', 'x698', 'x699'], 'f648': ['x671', 'x672', 'x699', 'x700'], 'f649': ['x673', 'x674', 'x701', 'x702'], 'f650': ['x674', 'x675', 'x702', 'x703'], 'f651': ['x675', 'x676', 'x703', 'x704'], 'f652': ['x676', 'x677', 'x704', 'x705'], 'f653': ['x677', 'x678', 'x705', 'x706'], 'f654': ['x678', 'x679', 'x706', 'x707'], 'f655': ['x679', 'x680', 'x707', 'x708'], 'f656': ['x680', 'x681', 'x708', 'x709'], 'f657': ['x681', 'x682', 'x709', 'x710'], 'f658': ['x682', 'x683', 'x710', 'x711'], 'f659': ['x683', 'x684', 'x711', 'x712'], 'f660': ['x684', 'x685', 'x712', 'x713'], 'f661': ['x685', 'x686', 'x713', 'x714'], 'f662': ['x686', 'x687', 'x714', 'x715'], 'f663': ['x687', 'x688', 'x715', 'x716'], 'f664': ['x688', 'x689', 'x716', 'x717'], 'f665': ['x689', 'x690', 'x717', 'x718'], 'f666': ['x690', 'x691', 'x718', 'x719'], 'f667': ['x691', 'x692', 'x719', 'x720'], 'f668': ['x692', 'x693', 'x720', 'x721'], 'f669': ['x693', 'x694', 'x721', 'x722'], 'f670': ['x694', 'x695', 'x722', 'x723'], 'f671': ['x695', 'x696', 'x723', 'x724'], 'f672': ['x696', 'x697', 'x724', 'x725'], 'f673': ['x697', 'x698', 'x725', 'x726'], 'f674': ['x698', 'x699', 'x726', 'x727'], 'f675': ['x699', 'x700', 'x727', 'x728'], 'f676': ['x701', 'x702', 'x729', 'x730'], 'f677': ['x702', 'x703', 'x730', 'x731'], 'f678': ['x703', 'x704', 'x731', 'x732'], 'f679': ['x704', 'x705', 'x732', 'x733'], 'f680': ['x705', 'x706', 'x733', 'x734'], 'f681': ['x706', 'x707', 'x734', 'x735'], 'f682': ['x707', 'x708', 'x735', 'x736'], 'f683': ['x708', 'x709', 'x736', 'x737'], 'f684': ['x709', 'x710', 'x737', 'x738'], 'f685': ['x710', 'x711', 'x738', 'x739'], 'f686': ['x711', 'x712', 'x739', 'x740'], 'f687': ['x712', 'x713', 'x740', 'x741'], 'f688': ['x713', 'x714', 'x741', 'x742'], 'f689': ['x714', 'x715', 'x742', 'x743'], 'f690': ['x715', 'x716', 'x743', 'x744'], 'f691': ['x716', 'x717', 'x744', 'x745'], 'f692': ['x717', 'x718', 'x745', 'x746'], 'f693': ['x718', 'x719', 'x746', 'x747'], 'f694': ['x719', 'x720', 'x747', 'x748'], 'f695': ['x720', 'x721', 'x748', 'x749'], 'f696': ['x721', 'x722', 'x749', 'x750'], 'f697': ['x722', 'x723', 'x750', 'x751'], 'f698': ['x723', 'x724', 'x751', 'x752'], 'f699': ['x724', 'x725', 'x752', 'x753'], 'f700': ['x725', 'x726', 'x753', 'x754'], 'f701': ['x726', 'x727', 'x754', 'x755'], 'f702': ['x727', 'x728', 'x755', 'x756'], 'f703': ['x729', 'x730', 'x757', 'x758'], 'f704': ['x730', 'x731', 'x758', 'x759'], 'f705': ['x731', 'x732', 'x759', 'x760'], 'f706': ['x732', 'x733', 'x760', 'x761'], 'f707': ['x733', 'x734', 'x761', 'x762'], 'f708': ['x734', 'x735', 'x762', 'x763'], 'f709': ['x735', 'x736', 'x763', 'x764'], 'f710': ['x736', 'x737', 'x764', 'x765'], 'f711': ['x737', 'x738', 'x765', 'x766'], 'f712': ['x738', 'x739', 'x766', 'x767'], 'f713': ['x739', 'x740', 'x767', 'x768'], 'f714': ['x740', 'x741', 'x768', 'x769'], 'f715': ['x741', 'x742', 'x769', 'x770'], 'f716': ['x742', 'x743', 'x770', 'x771'], 'f717': ['x743', 'x744', 'x771', 'x772'], 'f718': ['x744', 'x745', 'x772', 'x773'], 'f719': ['x745', 'x746', 'x773', 'x774'], 'f720': ['x746', 'x747', 'x774', 'x775'], 'f721': ['x747', 'x748', 'x775', 'x776'], 'f722': ['x748', 'x749', 'x776', 'x777'], 'f723': ['x749', 'x750', 'x777', 'x778'], 'f724': ['x750', 'x751', 'x778', 'x779'], 'f725': ['x751', 'x752', 'x779', 'x780'], 'f726': ['x752', 'x753', 'x780', 'x781'], 'f727': ['x753', 'x754', 'x781', 'x782'], 'f728': ['x754', 'x755', 'x782', 'x783'], 'f729': ['x755', 'x756', 'x783', 'x784']}\n",
      "{'x1': 0, 'x2': 0, 'x3': 0, 'x4': 0, 'x5': 0, 'x6': 0, 'x7': 0, 'x8': 0, 'x9': 0, 'x10': 0, 'x11': 0, 'x12': 0, 'x13': 0, 'x14': 0, 'x15': 0, 'x16': 0, 'x17': 0, 'x18': 0, 'x19': 0, 'x20': 0, 'x21': 0, 'x22': 0, 'x23': 0, 'x24': 0, 'x25': 0, 'x26': 0, 'x27': 0, 'x28': 0, 'x29': 0, 'x30': 0, 'x31': 0, 'x32': 0, 'x33': 0, 'x34': 0, 'x35': 0, 'x36': 0, 'x37': 0, 'x38': 0, 'x39': 0, 'x40': 0, 'x41': 0, 'x42': 0, 'x43': 0, 'x44': 0, 'x45': 0, 'x46': 0, 'x47': 0, 'x48': 0, 'x49': 0, 'x50': 0, 'x51': 0, 'x52': 0, 'x53': 0, 'x54': 0, 'x55': 0, 'x56': 0, 'x57': 0, 'x58': 0, 'x59': 0, 'x60': 0, 'x61': 0, 'x62': 0, 'x63': 0, 'x64': 0, 'x65': 0, 'x66': 0, 'x67': 0, 'x68': 0, 'x69': 0, 'x70': 0, 'x71': 0, 'x72': 0, 'x73': 0, 'x74': 0, 'x75': 0, 'x76': 0, 'x77': 0, 'x78': 0, 'x79': 0, 'x80': 0, 'x81': 0, 'x82': 0, 'x83': 0, 'x84': 0, 'x85': 0, 'x86': 0, 'x87': 0, 'x88': 0, 'x89': 0, 'x90': 0, 'x91': 0, 'x92': 0, 'x93': 0, 'x94': 0, 'x95': 0, 'x96': 0, 'x97': 0, 'x98': 0, 'x99': 0, 'x100': 0, 'x101': 0, 'x102': 0, 'x103': 0, 'x104': 0, 'x105': 0, 'x106': 0, 'x107': 0, 'x108': 0, 'x109': 0, 'x110': 0, 'x111': 0, 'x112': 0, 'x113': 0, 'x114': 0, 'x115': 0, 'x116': 0, 'x117': 0, 'x118': 0, 'x119': 0, 'x120': 0, 'x121': 0, 'x122': 0, 'x123': 0, 'x124': 0, 'x125': 0, 'x126': 0, 'x127': 0, 'x128': 0, 'x129': 0, 'x130': 0, 'x131': 0, 'x132': 0, 'x133': 0, 'x134': 0, 'x135': 0, 'x136': 0, 'x137': 0, 'x138': 0, 'x139': 0, 'x140': 0, 'x141': 0, 'x142': 0, 'x143': 0, 'x144': 0, 'x145': 0, 'x146': 0, 'x147': 0, 'x148': 0, 'x149': 0, 'x150': 0, 'x151': 0, 'x152': 0, 'x153': 0, 'x154': 0, 'x155': 0, 'x156': 0, 'x162': 1, 'x163': 1, 'x164': 0, 'x165': 0, 'x166': 0, 'x167': 0, 'x168': 0, 'x169': 0, 'x170': 0, 'x171': 0, 'x172': 0, 'x173': 0, 'x174': 0, 'x175': 0, 'x176': 0, 'x177': 0, 'x178': 0, 'x179': 0, 'x180': 1, 'x181': 1, 'x182': 1, 'x183': 1, 'x184': 1, 'x190': 1, 'x191': 1, 'x192': 0, 'x193': 0, 'x194': 0, 'x195': 0, 'x196': 0, 'x197': 0, 'x198': 0, 'x199': 0, 'x200': 0, 'x201': 0, 'x202': 0, 'x203': 0, 'x204': 0, 'x205': 1, 'x206': 1, 'x207': 1, 'x208': 1, 'x209': 1, 'x210': 1, 'x211': 1, 'x212': 1, 'x218': 0, 'x219': 0, 'x220': 0, 'x221': 0, 'x222': 0, 'x223': 0, 'x224': 0, 'x225': 0, 'x226': 0, 'x227': 0, 'x228': 0, 'x229': 0, 'x230': 0, 'x231': 0, 'x232': 0, 'x233': 1, 'x234': 1, 'x235': 1, 'x236': 1, 'x237': 1, 'x238': 1, 'x239': 1, 'x240': 1, 'x246': 0, 'x247': 0, 'x248': 0, 'x249': 0, 'x250': 0, 'x251': 0, 'x252': 0, 'x253': 0, 'x254': 0, 'x255': 0, 'x256': 0, 'x257': 0, 'x258': 0, 'x259': 0, 'x260': 0, 'x261': 0, 'x262': 1, 'x263': 0, 'x264': 1, 'x265': 1, 'x266': 1, 'x267': 0, 'x268': 0, 'x274': 0, 'x275': 0, 'x276': 0, 'x277': 0, 'x278': 0, 'x279': 0, 'x280': 0, 'x281': 0, 'x282': 0, 'x283': 0, 'x284': 0, 'x285': 0, 'x286': 0, 'x287': 0, 'x288': 0, 'x289': 0, 'x290': 0, 'x291': 0, 'x292': 1, 'x293': 1, 'x294': 0, 'x295': 0, 'x296': 0, 'x297': 0, 'x298': 0, 'x299': 0, 'x300': 0, 'x301': 0, 'x302': 0, 'x303': 0, 'x304': 0, 'x305': 0, 'x306': 0, 'x307': 0, 'x308': 0, 'x309': 0, 'x310': 0, 'x311': 0, 'x312': 0, 'x313': 0, 'x314': 0, 'x315': 0, 'x316': 0, 'x317': 0, 'x318': 0, 'x319': 0, 'x320': 1, 'x321': 1, 'x322': 1, 'x323': 0, 'x324': 0, 'x325': 0, 'x326': 0, 'x327': 0, 'x328': 0, 'x329': 0, 'x330': 0, 'x331': 0, 'x332': 0, 'x333': 0, 'x334': 0, 'x335': 0, 'x336': 0, 'x337': 0, 'x338': 0, 'x339': 0, 'x340': 0, 'x341': 0, 'x342': 0, 'x343': 0, 'x344': 0, 'x345': 0, 'x346': 0, 'x347': 0, 'x348': 0, 'x349': 1, 'x350': 1, 'x351': 0, 'x352': 0, 'x353': 0, 'x354': 0, 'x355': 0, 'x356': 0, 'x357': 0, 'x358': 0, 'x359': 0, 'x360': 0, 'x361': 0, 'x362': 0, 'x363': 0, 'x364': 0, 'x365': 0, 'x366': 0, 'x367': 0, 'x368': 0, 'x369': 0, 'x370': 0, 'x371': 0, 'x372': 0, 'x373': 0, 'x374': 0, 'x375': 0, 'x376': 0, 'x377': 0, 'x378': 1, 'x379': 1, 'x380': 1, 'x381': 0, 'x382': 0, 'x383': 0, 'x384': 0, 'x385': 0, 'x386': 0, 'x387': 0, 'x388': 0, 'x389': 0, 'x390': 0, 'x391': 0, 'x392': 0, 'x393': 0, 'x394': 0, 'x395': 0, 'x396': 0, 'x397': 0, 'x398': 0, 'x399': 0, 'x400': 0, 'x401': 0, 'x402': 0, 'x403': 0, 'x404': 0, 'x405': 0, 'x406': 0, 'x407': 1, 'x408': 1, 'x409': 1, 'x410': 0, 'x411': 0, 'x412': 0, 'x413': 0, 'x414': 0, 'x415': 0, 'x416': 0, 'x417': 0, 'x418': 0, 'x419': 0, 'x420': 0, 'x421': 0, 'x422': 0, 'x423': 0, 'x424': 0, 'x425': 0, 'x426': 0, 'x427': 0, 'x428': 0, 'x429': 0, 'x430': 0, 'x431': 0, 'x432': 0, 'x433': 0, 'x434': 0, 'x435': 0, 'x436': 1, 'x437': 1, 'x438': 1, 'x439': 1, 'x440': 0, 'x441': 0, 'x442': 0, 'x443': 0, 'x444': 0, 'x445': 0, 'x446': 0, 'x447': 0, 'x448': 0, 'x449': 0, 'x450': 0, 'x451': 0, 'x452': 0, 'x453': 0, 'x454': 0, 'x455': 0, 'x456': 0, 'x457': 0, 'x458': 0, 'x459': 0, 'x460': 0, 'x461': 0, 'x462': 0, 'x463': 0, 'x464': 0, 'x465': 0, 'x466': 1, 'x467': 1, 'x468': 1, 'x469': 0, 'x470': 0, 'x471': 0, 'x472': 0, 'x473': 0, 'x474': 0, 'x475': 0, 'x476': 0, 'x477': 0, 'x478': 0, 'x479': 0, 'x480': 0, 'x481': 0, 'x482': 0, 'x483': 0, 'x484': 0, 'x485': 0, 'x486': 0, 'x487': 0, 'x488': 0, 'x489': 0, 'x490': 0, 'x491': 0, 'x492': 0, 'x493': 0, 'x494': 1, 'x495': 1, 'x496': 1, 'x497': 0, 'x498': 0, 'x499': 0, 'x500': 0, 'x501': 0, 'x502': 0, 'x503': 0, 'x504': 0, 'x505': 0, 'x506': 0, 'x507': 0, 'x508': 0, 'x509': 0, 'x510': 0, 'x511': 0, 'x512': 0, 'x513': 0, 'x514': 0, 'x515': 0, 'x516': 0, 'x517': 0, 'x518': 0, 'x519': 0, 'x520': 1, 'x521': 1, 'x522': 1, 'x523': 1, 'x524': 1, 'x525': 0, 'x526': 0, 'x527': 0, 'x528': 0, 'x529': 0, 'x530': 0, 'x531': 0, 'x532': 0, 'x533': 0, 'x534': 0, 'x535': 0, 'x536': 0, 'x537': 0, 'x538': 0, 'x539': 0, 'x540': 0, 'x541': 0, 'x542': 0, 'x543': 0, 'x544': 0, 'x545': 0, 'x546': 1, 'x547': 1, 'x548': 1, 'x549': 1, 'x550': 1, 'x551': 1, 'x552': 1, 'x553': 0, 'x554': 0, 'x555': 0, 'x556': 0, 'x557': 0, 'x558': 0, 'x559': 0, 'x560': 0, 'x561': 0, 'x562': 0, 'x563': 0, 'x564': 0, 'x565': 0, 'x566': 0, 'x567': 0, 'x568': 0, 'x569': 0, 'x570': 0, 'x571': 0, 'x572': 0, 'x573': 1, 'x574': 1, 'x575': 1, 'x576': 1, 'x577': 1, 'x578': 1, 'x579': 0, 'x580': 0, 'x581': 0, 'x582': 0, 'x583': 0, 'x584': 0, 'x585': 0, 'x586': 0, 'x587': 0, 'x588': 0, 'x589': 0, 'x590': 0, 'x591': 0, 'x592': 0, 'x593': 0, 'x594': 0, 'x595': 0, 'x596': 0, 'x597': 0, 'x598': 0, 'x599': 1, 'x600': 1, 'x601': 1, 'x602': 1, 'x603': 1, 'x604': 1, 'x605': 0, 'x606': 0, 'x607': 0, 'x608': 0, 'x609': 0, 'x610': 0, 'x611': 0, 'x612': 0, 'x613': 0, 'x614': 0, 'x615': 0, 'x616': 0, 'x617': 0, 'x618': 0, 'x619': 0, 'x620': 0, 'x621': 0, 'x622': 0, 'x623': 0, 'x624': 1, 'x625': 1, 'x626': 1, 'x627': 1, 'x628': 1, 'x629': 1, 'x630': 1, 'x631': 0, 'x632': 0, 'x633': 0, 'x634': 0, 'x635': 0, 'x636': 0, 'x637': 0, 'x638': 0, 'x639': 0, 'x640': 0, 'x641': 0, 'x642': 0, 'x643': 0, 'x644': 0, 'x645': 0, 'x646': 0, 'x647': 0, 'x648': 0, 'x649': 0, 'x650': 1, 'x651': 1, 'x652': 1, 'x653': 1, 'x654': 1, 'x655': 1, 'x656': 1, 'x657': 1, 'x658': 0, 'x659': 0, 'x660': 0, 'x661': 0, 'x662': 0, 'x663': 0, 'x664': 0, 'x665': 0, 'x666': 0, 'x667': 0, 'x668': 0, 'x669': 0, 'x670': 0, 'x671': 0, 'x672': 0, 'x673': 0, 'x674': 0, 'x675': 0, 'x676': 0, 'x677': 1, 'x678': 1, 'x679': 1, 'x680': 1, 'x681': 1, 'x682': 1, 'x683': 1, 'x684': 0, 'x685': 0, 'x686': 0, 'x687': 0, 'x688': 0, 'x689': 0, 'x690': 0, 'x691': 0, 'x692': 0, 'x693': 0, 'x694': 0, 'x695': 0, 'x696': 0, 'x697': 0, 'x698': 0, 'x699': 0, 'x700': 0, 'x701': 0, 'x702': 0, 'x703': 0, 'x704': 0, 'x705': 0, 'x706': 0, 'x707': 0, 'x708': 0, 'x709': 0, 'x710': 0, 'x711': 0, 'x712': 0, 'x713': 0, 'x714': 0, 'x715': 0, 'x716': 0, 'x717': 0, 'x718': 0, 'x719': 0, 'x720': 0, 'x721': 0, 'x722': 0, 'x723': 0, 'x724': 0, 'x725': 0, 'x726': 0, 'x727': 0, 'x728': 0, 'x729': 0, 'x730': 0, 'x731': 0, 'x732': 0, 'x733': 0, 'x734': 0, 'x735': 0, 'x736': 0, 'x737': 0, 'x738': 0, 'x739': 0, 'x740': 0, 'x741': 0, 'x742': 0, 'x743': 0, 'x744': 0, 'x745': 0, 'x746': 0, 'x747': 0, 'x748': 0, 'x749': 0, 'x750': 0, 'x751': 0, 'x752': 0, 'x753': 0, 'x754': 0, 'x755': 0, 'x756': 0, 'x757': 0, 'x758': 0, 'x759': 0, 'x760': 0, 'x761': 0, 'x762': 0, 'x763': 0, 'x764': 0, 'x765': 0, 'x766': 0, 'x767': 0, 'x768': 0, 'x769': 0, 'x770': 0, 'x771': 0, 'x772': 0, 'x773': 0, 'x774': 0, 'x775': 0, 'x776': 0, 'x777': 0, 'x778': 0, 'x779': 0, 'x780': 0, 'x781': 0, 'x782': 0, 'x783': 0, 'x784': 0}\n"
     ]
    }
   ]
  },
  {
   "cell_type": "code",
   "source": [
    "def initialize(image, square, image_size=28):\n",
    "  '''\n",
    "  create a graph and initialize the messages of all edges\n",
    "  :param image: the training image\n",
    "  :param square: the removed square(a list)\n",
    "  '''\n",
    "  graph_map = create_graphMap()\n",
    "  value_map = create_valueMap(image, square)\n",
    "  graph = Graph(graph_map, value_map, square)\n",
    "  \n",
    "  for id, edge in graph.edges.items():\n",
    "    from_node = edge.from_node\n",
    "    to_node = edge.to_node\n",
    "    mes = [None, None]\n",
    "    if (from_node.is_factor_node) and to_node.is_observed: \n",
    "      value = to_node.value\n",
    "      mes[value] = 1\n",
    "      edge.messages.append(mes)      \n",
    "    elif (not from_node.is_factor_node) and from_node.is_observed:\n",
    "      value = from_node.value\n",
    "      mes[value] = 1\n",
    "      edge.messages.append(mes)\n",
    "    else:\n",
    "      mes = [1, 1]\n",
    "      edge.messages.append(mes)\n",
    "\n",
    "  return graph"
   ],
   "metadata": {
    "id": "RuR1F_I3qhu6",
    "pycharm": {
     "name": "#%%\n"
    }
   },
   "execution_count": null,
   "outputs": []
  },
  {
   "cell_type": "code",
   "source": [
    "def repair(image, square, x, y, len, image_size=28):\n",
    "  '''\n",
    "  repair the image with the inferred square\n",
    "  :param image: the original image\n",
    "  :param square: a list output by passing()\n",
    "  :param square x,y,len: the information of the square\n",
    "  '''\n",
    "  index = 0\n",
    "  for i in range(image_size):\n",
    "    for j in range(image_size):\n",
    "      if x<=(i+1)<=(x+len-1) and y<=(j+1)<=(y+len-1):\n",
    "        image[i][j] = square[index]\n",
    "        index += 1\n",
    "  return image\n"
   ],
   "metadata": {
    "id": "gX3dwvkorhFJ",
    "pycharm": {
     "name": "#%%\n"
    }
   },
   "execution_count": null,
   "outputs": []
  },
  {
   "cell_type": "code",
   "source": [
    "def true_vectors(image, square, image_size=28):\n",
    "  vectors = []\n",
    "  index = 0\n",
    "  for i in range(image_size):\n",
    "    for j in range(image_size):\n",
    "      index += 1\n",
    "      node = 'x{}'.format(index)\n",
    "      if node in square:\n",
    "        if image[i][j] == 0:\n",
    "          vectors.append([1, 0])\n",
    "        else:\n",
    "          vectors.append([0, 1])\n",
    "  return vectors"
   ],
   "metadata": {
    "id": "GAUZTmtuWD-5",
    "pycharm": {
     "name": "#%%\n"
    }
   },
   "execution_count": null,
   "outputs": []
  },
  {
   "cell_type": "code",
   "source": [
    "def training(image, square, a, b, c):\n",
    "  criterion = nn.CrossEntropyLoss()\n",
    "  graph = initialize(image, square)\n",
    "  true_vector = torch.tensor(true_vectors(image, square), requires_grad = True, dtype=torch.float64)\n",
    "  for epoch in range(20):\n",
    "    inferred_vector = passing(graph, square, a, b, c)\n",
    "    loss = criterion(inferred_vector, true_vector)\n",
    "    loss = Variable(loss, requires_grad = True)\n",
    "    loss.backward()\n",
    "    with torch.no_grad():\n",
    "      print(a.grad)\n",
    "      a -= a.grad * LR\n",
    "      b -= b.grad * LR\n",
    "      c -= c.grad * LR\n",
    "      a.grad.zero_()\n",
    "      b.grad.zero_()\n",
    "      c.grad.zero_()\n",
    "  return a\n",
    "    \n",
    "\n"
   ],
   "metadata": {
    "id": "UFCQ4ae2hYiS",
    "pycharm": {
     "name": "#%%\n"
    }
   },
   "execution_count": null,
   "outputs": []
  },
  {
   "cell_type": "code",
   "source": [
    "from torch.autograd import Variable\n",
    "X = 5\n",
    "Y = 15\n",
    "LEN = 4\n",
    "ITERATION = 1\n",
    "a = 1\n",
    "b = 0.7\n",
    "c = 0.1\n",
    "LR = 1e-5\n",
    "image = torch.tensor(dataset[0], requires_grad=True, dtype=torch.float64)\n",
    "# image = Variable(image, requires_grad=True)\n",
    "square = remove_square(X, Y, LEN)\n",
    "a= training(dataset[0], square, a, b, c)\n",
    "print(a, b, c)"
   ],
   "metadata": {
    "id": "3AAtzwyYp0rs",
    "pycharm": {
     "name": "#%%\n"
    }
   },
   "execution_count": null,
   "outputs": []
  },
  {
   "cell_type": "code",
   "source": [
    "import math\n",
    "a = torch.ones([1], requires_grad=True)*2.6\n",
    "\n",
    "b = torch.ones([1], requires_grad=True)*3\n",
    "\n",
    "if (a + b).item()==5.6:\n",
    "  x = torch.exp(abs(a+b))\n",
    "else:\n",
    "  x = torch.exp(abs(a+b))+1\n",
    "print(a.item())\n",
    "x.backward()\n",
    "print(a.grad)"
   ],
   "metadata": {
    "colab": {
     "base_uri": "https://localhost:8080/"
    },
    "id": "UNqx4FEEoJaR",
    "executionInfo": {
     "status": "ok",
     "timestamp": 1650941940926,
     "user_tz": 240,
     "elapsed": 158,
     "user": {
      "displayName": "Zhiyi Dong",
      "userId": "03369543648239299542"
     }
    },
    "outputId": "d774d0c5-cf7b-419b-9f11-a92e46a859e6",
    "pycharm": {
     "name": "#%%\n"
    }
   },
   "execution_count": null,
   "outputs": [
    {
     "output_type": "stream",
     "name": "stdout",
     "text": [
      "2.5999999046325684\n",
      "None\n"
     ]
    },
    {
     "output_type": "stream",
     "name": "stderr",
     "text": [
      "/usr/local/lib/python3.7/dist-packages/torch/_tensor.py:1104: UserWarning: The .grad attribute of a Tensor that is not a leaf Tensor is being accessed. Its .grad attribute won't be populated during autograd.backward(). If you indeed want the .grad field to be populated for a non-leaf Tensor, use .retain_grad() on the non-leaf Tensor. If you access the non-leaf Tensor by mistake, make sure you access the leaf Tensor instead. See github.com/pytorch/pytorch/pull/30531 for more informations. (Triggered internally at  aten/src/ATen/core/TensorBody.h:475.)\n",
      "  return self._grad\n"
     ]
    }
   ]
  },
  {
   "cell_type": "code",
   "source": [
    "import torch\n",
    "a = torch.ones([1,2])*2\n",
    "b = torch.ones([1,2])*3\n",
    "c=torch.cat((a, b),0)\n",
    "print(c)\n",
    "c=c[1:]\n",
    "print(c.shape)\n",
    "print(c)\n",
    "\n",
    "\n"
   ],
   "metadata": {
    "colab": {
     "base_uri": "https://localhost:8080/"
    },
    "id": "UpovUXUayLvN",
    "executionInfo": {
     "status": "ok",
     "timestamp": 1650944434903,
     "user_tz": 240,
     "elapsed": 215,
     "user": {
      "displayName": "Zhiyi Dong",
      "userId": "03369543648239299542"
     }
    },
    "outputId": "2438ebda-6c78-4b75-c681-f695adcbe6d9",
    "pycharm": {
     "name": "#%%\n"
    }
   },
   "execution_count": null,
   "outputs": [
    {
     "output_type": "stream",
     "name": "stdout",
     "text": [
      "tensor([[2., 2.],\n",
      "        [3., 3.]])\n",
      "torch.Size([1, 2])\n",
      "tensor([[3., 3.]])\n"
     ]
    }
   ]
  },
  {
   "cell_type": "code",
   "source": [
    "a = torch.ones([1,2])*2\n",
    "print(torch.sum(a))"
   ],
   "metadata": {
    "colab": {
     "base_uri": "https://localhost:8080/"
    },
    "id": "16ObO1Vs73M6",
    "executionInfo": {
     "status": "ok",
     "timestamp": 1650947140862,
     "user_tz": 240,
     "elapsed": 163,
     "user": {
      "displayName": "Zhiyi Dong",
      "userId": "03369543648239299542"
     }
    },
    "outputId": "da790504-0b45-476b-fd24-fe16d318bc2e",
    "pycharm": {
     "name": "#%%\n"
    }
   },
   "execution_count": null,
   "outputs": [
    {
     "output_type": "stream",
     "name": "stdout",
     "text": [
      "tensor(4.)\n"
     ]
    }
   ]
  }
 ]
}